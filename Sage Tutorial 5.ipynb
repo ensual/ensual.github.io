{
 "cells": [
  {
   "cell_type": "markdown",
   "id": "a808d212",
   "metadata": {},
   "source": [
    "# Lists and Other Data Structures "
   ]
  },
  {
   "cell_type": "markdown",
   "id": "d306298b",
   "metadata": {},
   "source": [
    "## List Creation and Access"
   ]
  },
  {
   "cell_type": "code",
   "execution_count": null,
   "id": "82dd511f",
   "metadata": {},
   "outputs": [],
   "source": [
    "L = [10, 20, 30]\n",
    "L"
   ]
  },
  {
   "cell_type": "code",
   "execution_count": null,
   "id": "29e6c3bc",
   "metadata": {},
   "outputs": [],
   "source": [
    "[] # [] is the empty list"
   ]
  },
  {
   "cell_type": "code",
   "execution_count": null,
   "id": "d5eb446c",
   "metadata": {},
   "outputs": [],
   "source": [
    "L[1], len(L), len([])"
   ]
  },
  {
   "cell_type": "code",
   "execution_count": null,
   "id": "7e7bfb1d",
   "metadata": {},
   "outputs": [],
   "source": [
    "L[2] = 33\n",
    "L"
   ]
  },
  {
   "cell_type": "code",
   "execution_count": null,
   "id": "653aaee3",
   "metadata": {},
   "outputs": [],
   "source": [
    "L = [11, 22, 33]\n",
    "L[-1], L[-2], L[-3]"
   ]
  },
  {
   "cell_type": "code",
   "execution_count": null,
   "id": "68c33bf2",
   "metadata": {},
   "outputs": [],
   "source": [
    "L = [0, 11, 22, 33, 44, 55]"
   ]
  },
  {
   "cell_type": "code",
   "execution_count": null,
   "id": "435720c5",
   "metadata": {},
   "outputs": [],
   "source": [
    "L[2:4]"
   ]
  },
  {
   "cell_type": "code",
   "execution_count": null,
   "id": "aa9763ae",
   "metadata": {},
   "outputs": [],
   "source": [
    "L[-4:4]"
   ]
  },
  {
   "cell_type": "code",
   "execution_count": null,
   "id": "4f7beca3",
   "metadata": {},
   "outputs": [],
   "source": [
    "L[2:-2]"
   ]
  },
  {
   "cell_type": "code",
   "execution_count": null,
   "id": "6910c6cc",
   "metadata": {},
   "outputs": [],
   "source": [
    "L[:4]"
   ]
  },
  {
   "cell_type": "code",
   "execution_count": null,
   "id": "3d60494d",
   "metadata": {},
   "outputs": [],
   "source": [
    "L[4:]"
   ]
  },
  {
   "cell_type": "code",
   "execution_count": null,
   "id": "944198a4",
   "metadata": {},
   "outputs": [],
   "source": [
    "L = [0, 11, 22, 33, 44, 55, 66, 77]\n",
    "L[2:6] = [12, 13, 14]               # substitutes [22, 33, 44, 55]\n",
    "L"
   ]
  },
  {
   "cell_type": "code",
   "execution_count": null,
   "id": "8eb2f299",
   "metadata": {},
   "outputs": [],
   "source": [
    "L = [0, 11, 22, 33, 44, 55, 66, 77]\n",
    "L[:1] = []                          # delete the first term of a list\n",
    "L"
   ]
  },
  {
   "cell_type": "code",
   "execution_count": null,
   "id": "bf4cb6a6",
   "metadata": {},
   "outputs": [],
   "source": [
    "L = [0, 11, 22, 33, 44, 55, 66, 77]\n",
    "L[-1:] = []                          # delete the last term of a list\n",
    "L"
   ]
  },
  {
   "cell_type": "code",
   "execution_count": null,
   "id": "b4d0995d",
   "metadata": {},
   "outputs": [],
   "source": [
    "L = [0, 11, 22, 33, 44, 55, 66, 77]\n",
    "L[:0] = [100]                          # insert 100 in front of a list\n",
    "L"
   ]
  },
  {
   "cell_type": "code",
   "execution_count": null,
   "id": "f89cb935",
   "metadata": {},
   "outputs": [],
   "source": [
    "L = [0, 11, 22, 33, 44, 55, 66, 77]\n",
    "L[len(L):] = [100]                     # insert 100 in tail of a list\n",
    "L"
   ]
  },
  {
   "cell_type": "code",
   "execution_count": null,
   "id": "161f6d0f",
   "metadata": {},
   "outputs": [],
   "source": [
    "L = [1, 3, 5, 7, 9, 11, 13, 15, 17, 19]\n",
    "L[3:len(L)-5] == L[3-len(L):-5]"
   ]
  },
  {
   "cell_type": "code",
   "execution_count": null,
   "id": "e4907cfe",
   "metadata": {},
   "outputs": [],
   "source": [
    "[5 in L, 6 in L]"
   ]
  },
  {
   "cell_type": "markdown",
   "id": "4d484b83",
   "metadata": {},
   "source": [
    "## Global List Operations"
   ]
  },
  {
   "cell_type": "code",
   "execution_count": null,
   "id": "0e853164",
   "metadata": {},
   "outputs": [],
   "source": [
    "L = [1, 2, 3] \n",
    "L + [10, 20, 30]"
   ]
  },
  {
   "cell_type": "code",
   "execution_count": null,
   "id": "9ade14b5",
   "metadata": {},
   "outputs": [],
   "source": [
    "4 * [1, 2, 3]"
   ]
  },
  {
   "cell_type": "code",
   "execution_count": null,
   "id": "c37462ab",
   "metadata": {},
   "outputs": [],
   "source": [
    "L = 5*[10, 20, 30]\n",
    "L[:3]+L[3:] == L"
   ]
  },
  {
   "cell_type": "code",
   "execution_count": null,
   "id": "0f562b54",
   "metadata": {},
   "outputs": [],
   "source": [
    "[1..3, 7, 10..13]"
   ]
  },
  {
   "cell_type": "code",
   "execution_count": null,
   "id": "94071e21",
   "metadata": {},
   "outputs": [],
   "source": [
    "[1, 4..20, 100, -20..-10]"
   ]
  },
  {
   "cell_type": "code",
   "execution_count": null,
   "id": "64b7afcd",
   "metadata": {},
   "outputs": [],
   "source": [
    "G = map(cos, [0, pi/6, pi/4, pi/3, pi/2])      # generator\n",
    "L = list(G)                                    # list\n",
    "L"
   ]
  },
  {
   "cell_type": "code",
   "execution_count": null,
   "id": "0b5c47b8",
   "metadata": {},
   "outputs": [],
   "source": [
    "list(G)"
   ]
  },
  {
   "cell_type": "code",
   "execution_count": null,
   "id": "14b24564",
   "metadata": {},
   "outputs": [],
   "source": [
    "G = map(lambda t: cos(t), [0, pi/6, pi/4, pi/3, pi/2])\n",
    "list(G)"
   ]
  },
  {
   "cell_type": "code",
   "execution_count": null,
   "id": "db3f4038",
   "metadata": {},
   "outputs": [],
   "source": [
    "G = map(lambda t: N(cos(t)), [0, pi/6, pi/4, pi/3, pi/2])\n",
    "print(list(G))"
   ]
  },
  {
   "cell_type": "code",
   "execution_count": null,
   "id": "746a8116",
   "metadata": {},
   "outputs": [],
   "source": [
    "G = map(N, map(cos, [0, pi/6, pi/4, pi/3, pi/2]))\n",
    "print(list(G))"
   ]
  },
  {
   "cell_type": "code",
   "execution_count": null,
   "id": "d89c6359",
   "metadata": {},
   "outputs": [],
   "source": [
    "G = map(compose(N, cos), [0, pi/6, pi/4, pi/3, pi/2])\n",
    "print(list(G))"
   ]
  },
  {
   "cell_type": "code",
   "execution_count": null,
   "id": "9751ea7b",
   "metadata": {},
   "outputs": [],
   "source": [
    "G = filter(is_prime, [1..55])\n",
    "print(list(G))"
   ]
  },
  {
   "cell_type": "code",
   "execution_count": null,
   "id": "4b42e544",
   "metadata": {},
   "outputs": [],
   "source": [
    "p = 37\n",
    "G = filter(lambda n: n^4 % p == 7, [0..p-1])\n",
    "print(list(G))"
   ]
  },
  {
   "cell_type": "markdown",
   "id": "f6f3b562",
   "metadata": {},
   "source": [
    "$$\\left\\{ 2n+1 : n = 0,1,2,\\dots, 15 \\right\\}$$"
   ]
  },
  {
   "cell_type": "code",
   "execution_count": null,
   "id": "316cddaf",
   "metadata": {},
   "outputs": [],
   "source": [
    "G = map(lambda n: 2*n+1, [0..15])\n",
    "print(list(G))"
   ]
  },
  {
   "cell_type": "code",
   "execution_count": null,
   "id": "a251ac86",
   "metadata": {},
   "outputs": [],
   "source": [
    "[2*n+1 for n in [0..15]]   # list comprehension"
   ]
  },
  {
   "cell_type": "markdown",
   "id": "9c9866c4",
   "metadata": {},
   "source": [
    "$$\\left\\{ p \\in \\left\\{1,2,\\dots, 55\\right\\} : \\text{$p$ is prime.}\\right\\}$$"
   ]
  },
  {
   "cell_type": "code",
   "execution_count": null,
   "id": "087d368d",
   "metadata": {},
   "outputs": [],
   "source": [
    "G = filter(is_prime, [1..55])\n",
    "print(list(G))"
   ]
  },
  {
   "cell_type": "code",
   "execution_count": null,
   "id": "4ac51fdb",
   "metadata": {},
   "outputs": [],
   "source": [
    "[p for p in [1..55] if is_prime(p)]"
   ]
  },
  {
   "cell_type": "markdown",
   "id": "7f88ac36",
   "metadata": {},
   "source": [
    "$$\\left\\{ n^2 : n \\in \\left\\{1,2,\\dots, 20\\right\\}  \\text{ and $n$ is prime.}\\right\\}$$"
   ]
  },
  {
   "cell_type": "code",
   "execution_count": null,
   "id": "9e12baed",
   "metadata": {},
   "outputs": [],
   "source": [
    "G = filter(is_prime, [4*n+1 for n in [0..20]])\n",
    "print(list(G))"
   ]
  },
  {
   "cell_type": "code",
   "execution_count": null,
   "id": "071bbc71",
   "metadata": {},
   "outputs": [],
   "source": [
    "[n^2 for n in [1..20] if is_prime(n)]"
   ]
  },
  {
   "cell_type": "code",
   "execution_count": null,
   "id": "2d542e7a",
   "metadata": {},
   "outputs": [],
   "source": [
    "reduce(lambda x, y: 10*x+y, [1, 2, 3, 4])"
   ]
  },
  {
   "cell_type": "code",
   "execution_count": null,
   "id": "ad557f81",
   "metadata": {},
   "outputs": [],
   "source": [
    "reduce(lambda x, y: x + [[y]], [1, 2, 3, 4], [])"
   ]
  },
  {
   "cell_type": "code",
   "execution_count": null,
   "id": "fd7ee079",
   "metadata": {},
   "outputs": [],
   "source": [
    "L = [2*n+1 for n in [0..9]]\n",
    "reduce(lambda x, y: x*y, L, 1)"
   ]
  },
  {
   "cell_type": "code",
   "execution_count": null,
   "id": "826974cf",
   "metadata": {},
   "outputs": [],
   "source": [
    "prod([2*n+1 for n in [0..9]])    # a list with for"
   ]
  },
  {
   "cell_type": "code",
   "execution_count": null,
   "id": "cd4c2f2a",
   "metadata": {},
   "outputs": [],
   "source": [
    "prod( 2*n+1 for n in [0..9] )       # without a list"
   ]
  },
  {
   "cell_type": "code",
   "execution_count": null,
   "id": "9ed9f491",
   "metadata": {},
   "outputs": [],
   "source": [
    "prod( n for n in [0..19] if n%2 == 1 )"
   ]
  },
  {
   "cell_type": "code",
   "execution_count": null,
   "id": "ae38c044",
   "metadata": {},
   "outputs": [],
   "source": [
    "def fct(x):\n",
    "    return 4/x == 2"
   ]
  },
  {
   "cell_type": "code",
   "execution_count": null,
   "id": "b5c562fc",
   "metadata": {},
   "outputs": [],
   "source": [
    "all(fct(x) for x in [2, 1, 0])"
   ]
  },
  {
   "cell_type": "code",
   "execution_count": null,
   "id": "db0d5638",
   "metadata": {},
   "outputs": [],
   "source": [
    "any(fct(x) for x in [2, 1, 0])"
   ]
  },
  {
   "cell_type": "code",
   "execution_count": null,
   "id": "47144d8f",
   "metadata": {},
   "outputs": [],
   "source": [
    "# [fct(x) for x in [2, 1, 0]]   # error"
   ]
  },
  {
   "cell_type": "code",
   "execution_count": null,
   "id": "457d4fa4",
   "metadata": {},
   "outputs": [],
   "source": [
    "[[x, y] for x in [1..2] for y in [6..8]]"
   ]
  },
  {
   "cell_type": "code",
   "execution_count": null,
   "id": "43904f53",
   "metadata": {},
   "outputs": [],
   "source": [
    "[ [[x, y] for x in [1..2]] for y in [6..8]]"
   ]
  },
  {
   "cell_type": "code",
   "execution_count": null,
   "id": "c7f56c37",
   "metadata": {},
   "outputs": [],
   "source": [
    "G = map(lambda x, y: [x, y], [1..3], [6..8])\n",
    "print(list(G))"
   ]
  },
  {
   "cell_type": "code",
   "execution_count": null,
   "id": "9bb32bc8",
   "metadata": {},
   "outputs": [],
   "source": [
    "L = [[1, 2, [3]], [4, [5, 6]], [7, [8, [9]]]]"
   ]
  },
  {
   "cell_type": "code",
   "execution_count": null,
   "id": "1ac25f6f",
   "metadata": {},
   "outputs": [],
   "source": [
    "flatten(L, max_level = 1)"
   ]
  },
  {
   "cell_type": "code",
   "execution_count": null,
   "id": "d295868e",
   "metadata": {},
   "outputs": [],
   "source": [
    "flatten(L, max_level = 2)"
   ]
  },
  {
   "cell_type": "code",
   "execution_count": null,
   "id": "ae47a1a3",
   "metadata": {},
   "outputs": [],
   "source": [
    "flatten(L)                 # equivalent to flatten (L, max_level = 3)"
   ]
  },
  {
   "cell_type": "markdown",
   "id": "08d5e91e",
   "metadata": {},
   "source": [
    "$$(x e^x)^{(n)} = \\sum_{k=0}^n \\binom{n}{k} x^{(k)} (e^x)^{(n-k)} = (x+n) e^x$$"
   ]
  },
  {
   "cell_type": "code",
   "execution_count": null,
   "id": "1672d0c0",
   "metadata": {},
   "outputs": [],
   "source": [
    "x = var('x')\n",
    "factor(diff(x*exp(x), [x, x]))"
   ]
  },
  {
   "cell_type": "code",
   "execution_count": null,
   "id": "cb7af961",
   "metadata": {},
   "outputs": [],
   "source": [
    "G = map(lambda n: factor(diff(x*exp(x), n*[x])), [0..6])\n",
    "print(list(G))"
   ]
  },
  {
   "cell_type": "code",
   "execution_count": null,
   "id": "8c5ea8a2",
   "metadata": {},
   "outputs": [],
   "source": [
    "print([factor(diff(x*exp(x), n*[x])) for n in [0..6]])"
   ]
  },
  {
   "cell_type": "markdown",
   "id": "bd2a5d90",
   "metadata": {},
   "source": [
    "## Main Methods on Lists"
   ]
  },
  {
   "cell_type": "code",
   "execution_count": null,
   "id": "aa45e7d7",
   "metadata": {},
   "outputs": [],
   "source": [
    "L = [1, 8, 5, 2, 9]\n",
    "L.reverse()\n",
    "L"
   ]
  },
  {
   "cell_type": "code",
   "execution_count": null,
   "id": "e4040338",
   "metadata": {},
   "outputs": [],
   "source": [
    "L.sort()\n",
    "L"
   ]
  },
  {
   "cell_type": "code",
   "execution_count": null,
   "id": "2f975d49",
   "metadata": {},
   "outputs": [],
   "source": [
    "L.sort(reverse = True)\n",
    "L"
   ]
  },
  {
   "cell_type": "code",
   "execution_count": null,
   "id": "cd8efd45",
   "metadata": {},
   "outputs": [],
   "source": [
    "L = [1, 8, 5, 2, 9]\n",
    "L.append(100)\n",
    "L"
   ]
  },
  {
   "cell_type": "code",
   "execution_count": null,
   "id": "8534fff1",
   "metadata": {},
   "outputs": [],
   "source": [
    "L = [1, 8, 5, 2, 9]\n",
    "L.extend([100, 200])\n",
    "L"
   ]
  },
  {
   "cell_type": "code",
   "execution_count": null,
   "id": "1e1501ea",
   "metadata": {},
   "outputs": [],
   "source": [
    "L = [1, 8, 5, 2, 9]\n",
    "L.insert(3, 100)\n",
    "L"
   ]
  },
  {
   "cell_type": "code",
   "execution_count": null,
   "id": "f904a3c5",
   "metadata": {},
   "outputs": [],
   "source": [
    "L = [1, 8, 5, 2, 9, 2, 5, 5]\n",
    "L.count(5)"
   ]
  },
  {
   "cell_type": "code",
   "execution_count": null,
   "id": "a2be3e30",
   "metadata": {},
   "outputs": [],
   "source": [
    "L = [1, 8, 5, 2, 9, 2, 5, 9, 5]\n",
    "L.index(9)"
   ]
  },
  {
   "cell_type": "code",
   "execution_count": null,
   "id": "f9effbca",
   "metadata": {},
   "outputs": [],
   "source": [
    "L = [1, 8, 5, 2, 9, 2, 5, 9, 5]\n",
    "L.remove(9)\n",
    "L"
   ]
  },
  {
   "cell_type": "markdown",
   "id": "53be720c",
   "metadata": {},
   "source": [
    "## Examples of List Manipulations"
   ]
  },
  {
   "cell_type": "code",
   "execution_count": null,
   "id": "c9fb6099",
   "metadata": {},
   "outputs": [],
   "source": [
    "def fct1(L):\n",
    "    E = list(filter(lambda n: n % 2 == 0, L))\n",
    "    O = list(filter(lambda n: n % 2 == 1, L))\n",
    "    return [E, O]\n",
    "fct1([1..10])"
   ]
  },
  {
   "cell_type": "code",
   "execution_count": null,
   "id": "5e3acd38",
   "metadata": {},
   "outputs": [],
   "source": [
    "def fct2 (L):\n",
    "    res0 = []\n",
    "    res1 = []\n",
    "    for k in L:\n",
    "        if k%2 == 0: \n",
    "            res0.append(k) # or res0[len(res0):] = [k]\n",
    "        else: \n",
    "            res1.append(k) # or res1[len(res1):] = [k]\n",
    "    return [res0, res1]\n",
    "fct2([1..10])"
   ]
  },
  {
   "cell_type": "code",
   "execution_count": null,
   "id": "fad2e252",
   "metadata": {},
   "outputs": [],
   "source": [
    "def fct3a(L, res0, res1):\n",
    "    if L == []: \n",
    "        return [res0, res1]\n",
    "    elif L[0]%2 == 0: \n",
    "        return fct3a(L[1:], res0+[L[0]], res1)\n",
    "    else: \n",
    "        return fct3a(L[1:], res0, res1+[L[0]])\n",
    "def fct3(L): \n",
    "    return fct3a(L, [], [])\n",
    "fct3([1..10])"
   ]
  },
  {
   "cell_type": "code",
   "execution_count": null,
   "id": "26b57c76",
   "metadata": {},
   "outputs": [],
   "source": [
    "def subSequences(L):\n",
    "    if L == []: \n",
    "        return []\n",
    "    res = []\n",
    "    start = 0\n",
    "    k = 1\n",
    "    while k < len(L):         # 2 consecutive terms are defined\n",
    "        if L[k-1] > L[k]:\n",
    "            res.append(L[start:k]) \n",
    "            start = k\n",
    "        k = k+1\n",
    "    res.append(L[start:k])\n",
    "    return res"
   ]
  },
  {
   "cell_type": "code",
   "execution_count": null,
   "id": "3a305ed3",
   "metadata": {},
   "outputs": [],
   "source": [
    "subSequences([1, 4, 1, 5])"
   ]
  },
  {
   "cell_type": "code",
   "execution_count": null,
   "id": "61092f0f",
   "metadata": {},
   "outputs": [],
   "source": [
    "subSequences([4, 1, 5, 1])"
   ]
  },
  {
   "cell_type": "markdown",
   "id": "fb6d2ba1",
   "metadata": {},
   "source": [
    "## Character Strings"
   ]
  },
  {
   "cell_type": "code",
   "execution_count": null,
   "id": "6f4b5dc2",
   "metadata": {},
   "outputs": [],
   "source": [
    "S = 'This is a character string.'\n",
    "S"
   ]
  },
  {
   "cell_type": "code",
   "execution_count": null,
   "id": "70056989",
   "metadata": {},
   "outputs": [],
   "source": [
    "S = 'This is \\n a déjà-vu \\t example.'\n",
    "print(S)\n",
    "S"
   ]
  },
  {
   "cell_type": "code",
   "execution_count": null,
   "id": "60010ef5",
   "metadata": {},
   "outputs": [],
   "source": [
    "S = 'one two three four five six seven'\n",
    "L = S.split()\n",
    "L"
   ]
  },
  {
   "cell_type": "markdown",
   "id": "6888325a",
   "metadata": {},
   "source": [
    "## Shared or Duplicated Data Structures"
   ]
  },
  {
   "cell_type": "code",
   "execution_count": null,
   "id": "2fc732af",
   "metadata": {},
   "outputs": [],
   "source": [
    "L1 = [11, 22, 33]\n",
    "L2 = L1\n",
    "L1[1] = 222 \n",
    "L2.sort() \n",
    "L1, L2"
   ]
  },
  {
   "cell_type": "code",
   "execution_count": null,
   "id": "a27198f1",
   "metadata": {},
   "outputs": [],
   "source": [
    "L1[2:3] = []\n",
    "L2[0:0] = [6, 7, 8]\n",
    "L1, L2"
   ]
  },
  {
   "cell_type": "code",
   "execution_count": null,
   "id": "8901c075",
   "metadata": {},
   "outputs": [],
   "source": [
    "L1 = [11, 22, 33]\n",
    "L2 = L1 \n",
    "L3 = L1[:]\n",
    "[L1 is L2, L2 is L1, L1 is L3, L1 == L3]"
   ]
  },
  {
   "cell_type": "code",
   "execution_count": null,
   "id": "0502fe5e",
   "metadata": {},
   "outputs": [],
   "source": [
    "La = [1, 2, 3] \n",
    "L1 = [1, La] \n",
    "L2 = copy(L1)\n",
    "L1[1][0] = 5           # [1, [5, 2, 3]] for L1 and L2\n",
    "[L1 == L2, L1 is L2, L1[1] is L2[1]]"
   ]
  },
  {
   "cell_type": "code",
   "execution_count": null,
   "id": "0ae9348e",
   "metadata": {},
   "outputs": [],
   "source": [
    "list(map(copy, L))"
   ]
  },
  {
   "cell_type": "code",
   "execution_count": null,
   "id": "f518fee7",
   "metadata": {},
   "outputs": [],
   "source": [
    "La = [1, 2, 3]\n",
    "L1 = [1, La] \n",
    "L2 = deepcopy(L1)\n",
    "L1[1][0] = 5\n",
    "[L1 == L2, L1 is L2, L1[1] is L2[1]]"
   ]
  },
  {
   "cell_type": "markdown",
   "id": "6a06248a",
   "metadata": {},
   "source": [
    "## Mutable and Immutable Data Structures"
   ]
  },
  {
   "cell_type": "code",
   "execution_count": null,
   "id": "8f6e333c",
   "metadata": {},
   "outputs": [],
   "source": [
    "S0 = ()\n",
    "S1 = (1, )\n",
    "S2 = (1, 2)\n",
    "[1 in S1, 1 == (1)]"
   ]
  },
  {
   "cell_type": "code",
   "execution_count": null,
   "id": "1c0f7623",
   "metadata": {},
   "outputs": [],
   "source": [
    "S1 = (1, 4, 9, 16, 25)\n",
    "[k for k in S1]"
   ]
  },
  {
   "cell_type": "code",
   "execution_count": null,
   "id": "0330f73f",
   "metadata": {},
   "outputs": [],
   "source": [
    "L1 = [0..4]\n",
    "L2 = [5..9]\n",
    "list(zip(L1, L2))"
   ]
  },
  {
   "cell_type": "code",
   "execution_count": null,
   "id": "223cb7f7",
   "metadata": {},
   "outputs": [],
   "source": [
    "list(map(lambda x, y:(x, y), L1, L2))"
   ]
  },
  {
   "cell_type": "markdown",
   "id": "c756cb08",
   "metadata": {},
   "source": [
    "## Finite Sets"
   ]
  },
  {
   "cell_type": "code",
   "execution_count": null,
   "id": "780f233d",
   "metadata": {},
   "outputs": [],
   "source": [
    "E = Set([1, 2, 4, 8, 2, 2, 2])\n",
    "F = Set([7, 5, 3, 1]) \n",
    "E, F"
   ]
  },
  {
   "cell_type": "code",
   "execution_count": null,
   "id": "0634f8c9",
   "metadata": {},
   "outputs": [],
   "source": [
    "E = Set([1, 2, 4, 8, 2, 2, 2])\n",
    "F = Set([7, 5, 3, 1])\n",
    "5 in E, 5 in F, E + F == F | E"
   ]
  },
  {
   "cell_type": "code",
   "execution_count": null,
   "id": "1e1665c8",
   "metadata": {},
   "outputs": [],
   "source": [
    "E + F, E | F, E & F, E - F, E ^^ F"
   ]
  },
  {
   "cell_type": "code",
   "execution_count": null,
   "id": "56785c38",
   "metadata": {},
   "outputs": [],
   "source": [
    "E = Set([1, 2, 4, 8, 2, 2, 2])\n",
    "[E[k] for k in [0..len(E)-1]], [t for t in E]"
   ]
  },
  {
   "cell_type": "code",
   "execution_count": null,
   "id": "4d6b19b2",
   "metadata": {},
   "outputs": [],
   "source": [
    "def included(E, F): \n",
    "    return E+F == F"
   ]
  },
  {
   "cell_type": "code",
   "execution_count": null,
   "id": "1fe2bcea",
   "metadata": {},
   "outputs": [],
   "source": [
    "Set([Set([]), Set([1]), Set([2]), Set([1, 2])])"
   ]
  },
  {
   "cell_type": "code",
   "execution_count": null,
   "id": "0f50ebc4",
   "metadata": {},
   "outputs": [],
   "source": [
    "Set([ (), (1, ), (2, ), (1, 2) ])"
   ]
  },
  {
   "cell_type": "code",
   "execution_count": null,
   "id": "ae3995c6",
   "metadata": {},
   "outputs": [],
   "source": [
    "def Parts(EE):\n",
    "    if EE == Set([]): \n",
    "        return Set([EE])\n",
    "    else:\n",
    "        return withOrWithout(EE[0], Parts(Set(EE[1:])))"
   ]
  },
  {
   "cell_type": "code",
   "execution_count": null,
   "id": "a9605c99",
   "metadata": {},
   "outputs": [],
   "source": [
    "def withOrWithout(a, E):\n",
    "    return Set(map (lambda F: Set([a])+F, E)) + E"
   ]
  },
  {
   "cell_type": "code",
   "execution_count": null,
   "id": "a9b17857",
   "metadata": {},
   "outputs": [],
   "source": [
    "Parts(Set([1, 2, 3]))"
   ]
  },
  {
   "cell_type": "markdown",
   "id": "fbb1fa2d",
   "metadata": {},
   "source": [
    "## Dictionaries"
   ]
  },
  {
   "cell_type": "code",
   "execution_count": null,
   "id": "0f7c9530",
   "metadata": {},
   "outputs": [],
   "source": [
    "D={}\n",
    "D['one']   = 1\n",
    "D['two']   = 2\n",
    "D['three'] = 3\n",
    "D['ten']   = 10\n",
    "D['two'] + D['three']"
   ]
  },
  {
   "cell_type": "code",
   "execution_count": null,
   "id": "4b7fc4d1",
   "metadata": {},
   "outputs": [],
   "source": [
    "D = {'a0':'b0', 'a1':'b1', 'a2':'b2', 'a3':'b0', 'a4':'b3', 'a5':'b3'}\n",
    "E = Set(D.keys()) ; Imf = Set(D.values())\n",
    "Imf == Set(map (lambda t: D[t], E)) # is equivalent"
   ]
  },
  {
   "cell_type": "code",
   "execution_count": null,
   "id": "ed34a7d0",
   "metadata": {},
   "outputs": [],
   "source": [
    "def injective(D):\n",
    "    return len(D) == len (Set(D.values()))\n",
    "injective(D)"
   ]
  },
  {
   "cell_type": "code",
   "execution_count": null,
   "id": "a0b0f7b8",
   "metadata": {},
   "outputs": [],
   "source": [
    "D = {'a0':'b0', 'a1':'b1', 'a2':'b2', 'a3':'b0', 'a4':'b3', 'a5':'b3'}\n",
    "F = ['a0', 'a3', 'a4']\n",
    "G = ['b1', 'b3']"
   ]
  },
  {
   "cell_type": "code",
   "execution_count": null,
   "id": "0a7a75fa",
   "metadata": {},
   "outputs": [],
   "source": [
    "Set([D[t] for t in F])              # image f(F)"
   ]
  },
  {
   "cell_type": "code",
   "execution_count": null,
   "id": "c3cfd2d4",
   "metadata": {},
   "outputs": [],
   "source": [
    "Set([t for t in D if D[t] in G])    # preimage f^{-1}(G)"
   ]
  },
  {
   "cell_type": "code",
   "execution_count": null,
   "id": "9a9fc619",
   "metadata": {},
   "outputs": [],
   "source": [
    "DR = dict((D[t], t) for t in D)     # inverse function of f\n",
    "DR"
   ]
  },
  {
   "cell_type": "code",
   "execution_count": null,
   "id": "e0a34946",
   "metadata": {},
   "outputs": [],
   "source": []
  }
 ],
 "metadata": {
  "kernelspec": {
   "display_name": "SageMath 9.4",
   "language": "sage",
   "name": "sagemath"
  },
  "language_info": {
   "codemirror_mode": {
    "name": "ipython",
    "version": 3
   },
   "file_extension": ".py",
   "mimetype": "text/x-python",
   "name": "python",
   "nbconvert_exporter": "python",
   "pygments_lexer": "ipython3",
   "version": "3.9.7"
  }
 },
 "nbformat": 4,
 "nbformat_minor": 5
}
