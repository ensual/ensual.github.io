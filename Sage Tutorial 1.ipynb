{
 "cells": [
  {
   "cell_type": "markdown",
   "id": "bead3ae2",
   "metadata": {},
   "source": [
    "# Sage as a Calculator"
   ]
  },
  {
   "cell_type": "markdown",
   "id": "34ff77a7",
   "metadata": {},
   "source": [
    "The official Sage website offers many resources:   \n",
    "- http://www.sagemath.org (official site)  \n",
    "- http://doc.sagemath.org (documentation)  \n",
    "- http://wiki.sagemath.org/quickref (command lists)  "
   ]
  },
  {
   "cell_type": "markdown",
   "id": "e7637190",
   "metadata": {},
   "source": [
    "## First Computations"
   ]
  },
  {
   "cell_type": "code",
   "execution_count": null,
   "id": "b9594bb8",
   "metadata": {},
   "outputs": [],
   "source": [
    "1+1"
   ]
  },
  {
   "cell_type": "code",
   "execution_count": null,
   "id": "b67ffefb",
   "metadata": {},
   "outputs": [],
   "source": [
    "(1 + 2*(3 + 5))*2"
   ]
  },
  {
   "cell_type": "code",
   "execution_count": null,
   "id": "9ef3c018",
   "metadata": {},
   "outputs": [],
   "source": [
    "2^3"
   ]
  },
  {
   "cell_type": "code",
   "execution_count": null,
   "id": "07fcee73",
   "metadata": {},
   "outputs": [],
   "source": [
    "2**3   # Python 3"
   ]
  },
  {
   "cell_type": "code",
   "execution_count": null,
   "id": "fedff786",
   "metadata": {},
   "outputs": [],
   "source": [
    "20/6   # not 3.333333"
   ]
  },
  {
   "cell_type": "code",
   "execution_count": null,
   "id": "1b697fff",
   "metadata": {},
   "outputs": [],
   "source": [
    "2^10"
   ]
  },
  {
   "cell_type": "code",
   "execution_count": null,
   "id": "27dcc317",
   "metadata": {},
   "outputs": [],
   "source": [
    "2^100"
   ]
  },
  {
   "cell_type": "code",
   "execution_count": null,
   "id": "23cc180b",
   "metadata": {},
   "outputs": [],
   "source": [
    "2^1000"
   ]
  },
  {
   "cell_type": "code",
   "execution_count": null,
   "id": "23bb68ff",
   "metadata": {},
   "outputs": [],
   "source": [
    "20.0 / 14"
   ]
  },
  {
   "cell_type": "code",
   "execution_count": null,
   "id": "d6ab0352",
   "metadata": {},
   "outputs": [],
   "source": [
    "numerical_approx(20/14)"
   ]
  },
  {
   "cell_type": "code",
   "execution_count": null,
   "id": "c0808e0a",
   "metadata": {},
   "outputs": [],
   "source": [
    "numerical_approx(2^1000)"
   ]
  },
  {
   "cell_type": "code",
   "execution_count": null,
   "id": "5acfffba",
   "metadata": {},
   "outputs": [],
   "source": [
    "N(20/14)"
   ]
  },
  {
   "cell_type": "code",
   "execution_count": null,
   "id": "eb2963f6",
   "metadata": {},
   "outputs": [],
   "source": [
    "n(20/14)              # function f(x, option)"
   ]
  },
  {
   "cell_type": "code",
   "execution_count": null,
   "id": "93b4e0f0",
   "metadata": {},
   "outputs": [],
   "source": [
    "(20/14).n()           # method x.f(option)"
   ]
  },
  {
   "cell_type": "code",
   "execution_count": null,
   "id": "53de2143",
   "metadata": {},
   "outputs": [],
   "source": [
    "N(20/14, digits=60)"
   ]
  },
  {
   "cell_type": "code",
   "execution_count": null,
   "id": "15069961",
   "metadata": {},
   "outputs": [],
   "source": [
    "(20/14).n(digits=60)"
   ]
  },
  {
   "cell_type": "code",
   "execution_count": null,
   "id": "672d6eaa",
   "metadata": {},
   "outputs": [],
   "source": [
    "20 // 6   # quotient"
   ]
  },
  {
   "cell_type": "code",
   "execution_count": null,
   "id": "93318ab5",
   "metadata": {},
   "outputs": [],
   "source": [
    "20 % 6    # remainder"
   ]
  },
  {
   "cell_type": "code",
   "execution_count": null,
   "id": "7ef1d8ef",
   "metadata": {},
   "outputs": [],
   "source": [
    "factorial(100)"
   ]
  },
  {
   "cell_type": "code",
   "execution_count": null,
   "id": "50975522",
   "metadata": {},
   "outputs": [],
   "source": [
    "factor(2^(2^5)+1)"
   ]
  },
  {
   "cell_type": "markdown",
   "id": "72cccd65",
   "metadata": {},
   "source": [
    "## Elementary Functions and Usual Constants"
   ]
  },
  {
   "cell_type": "code",
   "execution_count": null,
   "id": "57ab989d",
   "metadata": {},
   "outputs": [],
   "source": [
    "sin(pi)"
   ]
  },
  {
   "cell_type": "code",
   "execution_count": null,
   "id": "e39264a8",
   "metadata": {},
   "outputs": [],
   "source": [
    "tan(pi/3)"
   ]
  },
  {
   "cell_type": "code",
   "execution_count": null,
   "id": "0e5dae3f",
   "metadata": {},
   "outputs": [],
   "source": [
    "arctan(1)"
   ]
  },
  {
   "cell_type": "code",
   "execution_count": null,
   "id": "9cf35d8b",
   "metadata": {},
   "outputs": [],
   "source": [
    "exp(2 * I * pi)"
   ]
  },
  {
   "cell_type": "code",
   "execution_count": null,
   "id": "f83ea730",
   "metadata": {},
   "outputs": [],
   "source": [
    "e^(2 * i * pi)"
   ]
  },
  {
   "cell_type": "code",
   "execution_count": null,
   "id": "bbbaec54",
   "metadata": {},
   "outputs": [],
   "source": [
    "arccos(sin(pi/3))"
   ]
  },
  {
   "cell_type": "code",
   "execution_count": null,
   "id": "ad4207e6",
   "metadata": {},
   "outputs": [],
   "source": [
    "sqrt(2)"
   ]
  },
  {
   "cell_type": "code",
   "execution_count": null,
   "id": "eb49288f",
   "metadata": {},
   "outputs": [],
   "source": [
    "exp(I*pi/7)"
   ]
  },
  {
   "cell_type": "code",
   "execution_count": null,
   "id": "1e8a058a",
   "metadata": {},
   "outputs": [],
   "source": [
    "euler_gamma.n()   # Euler-Mascheroni constant gamma"
   ]
  },
  {
   "cell_type": "code",
   "execution_count": null,
   "id": "818f6921",
   "metadata": {},
   "outputs": [],
   "source": [
    "(golden_ratio).simplify() # golden ratio phi = (1 + sqrt(5))/2"
   ]
  },
  {
   "cell_type": "code",
   "execution_count": null,
   "id": "8f769561",
   "metadata": {},
   "outputs": [],
   "source": [
    "catalan.n()       # Catalan’s constant"
   ]
  },
  {
   "cell_type": "code",
   "execution_count": null,
   "id": "bff789b3",
   "metadata": {},
   "outputs": [],
   "source": [
    "simplify(arccos(sin(pi/3)))"
   ]
  },
  {
   "cell_type": "code",
   "execution_count": null,
   "id": "8c677863",
   "metadata": {},
   "outputs": [],
   "source": [
    "6*arccos(sin(pi/3)).n(digits=60)"
   ]
  },
  {
   "cell_type": "code",
   "execution_count": null,
   "id": "e34b38d4",
   "metadata": {},
   "outputs": [],
   "source": [
    "sqrt(2).n(digits=60)"
   ]
  },
  {
   "cell_type": "markdown",
   "id": "d9d0bdfe",
   "metadata": {},
   "source": [
    "## On-Line Help and Automatic Completion"
   ]
  },
  {
   "cell_type": "code",
   "execution_count": null,
   "id": "307dcb75",
   "metadata": {},
   "outputs": [],
   "source": [
    "sin?"
   ]
  },
  {
   "cell_type": "markdown",
   "id": "5e7249a8",
   "metadata": {},
   "source": [
    "`arc<tab>`\n",
    "\n",
    "```\n",
    "Possible completions are:\n",
    "arc arccos arccosh arccot arccoth arccsc arccsch\n",
    "arcsec arcsech arcsin arcsinh arctan arctan2 arctanh\n",
    "```"
   ]
  },
  {
   "cell_type": "code",
   "execution_count": null,
   "id": "18c10031",
   "metadata": {},
   "outputs": [],
   "source": [
    "arc"
   ]
  },
  {
   "cell_type": "markdown",
   "id": "d2d93ca7",
   "metadata": {},
   "source": [
    "## Python Variables"
   ]
  },
  {
   "cell_type": "code",
   "execution_count": null,
   "id": "a6453da9",
   "metadata": {},
   "outputs": [],
   "source": [
    "y = 1 + 2"
   ]
  },
  {
   "cell_type": "code",
   "execution_count": null,
   "id": "247f35e7",
   "metadata": {},
   "outputs": [],
   "source": [
    "y"
   ]
  },
  {
   "cell_type": "code",
   "execution_count": null,
   "id": "421945fa",
   "metadata": {},
   "outputs": [],
   "source": [
    "(2 + y) * y"
   ]
  },
  {
   "cell_type": "code",
   "execution_count": null,
   "id": "65dc9b32",
   "metadata": {},
   "outputs": [],
   "source": [
    "y = 1 + 2; y"
   ]
  },
  {
   "cell_type": "code",
   "execution_count": null,
   "id": "be462835",
   "metadata": {},
   "outputs": [],
   "source": [
    "y = 3 * y + 1; y"
   ]
  },
  {
   "cell_type": "code",
   "execution_count": null,
   "id": "70ba6e26",
   "metadata": {},
   "outputs": [],
   "source": [
    "y = 3 * y + 1; y"
   ]
  },
  {
   "cell_type": "code",
   "execution_count": null,
   "id": "0e279090",
   "metadata": {},
   "outputs": [],
   "source": [
    "y = 3 * y + 1; y"
   ]
  },
  {
   "cell_type": "code",
   "execution_count": null,
   "id": "7dea1e80",
   "metadata": {},
   "outputs": [],
   "source": [
    "1 + 1"
   ]
  },
  {
   "cell_type": "code",
   "execution_count": null,
   "id": "afa97cc7",
   "metadata": {},
   "outputs": [],
   "source": [
    "_ + 1"
   ]
  },
  {
   "cell_type": "code",
   "execution_count": null,
   "id": "2efb660e",
   "metadata": {},
   "outputs": [],
   "source": [
    "__"
   ]
  },
  {
   "cell_type": "code",
   "execution_count": null,
   "id": "a1a27b56",
   "metadata": {},
   "outputs": [],
   "source": [
    "pi = -I/2"
   ]
  },
  {
   "cell_type": "code",
   "execution_count": null,
   "id": "9276a35f",
   "metadata": {},
   "outputs": [],
   "source": [
    "exp(2*I*pi)   # pi = -I/2, pi is not 3.1415..."
   ]
  },
  {
   "cell_type": "code",
   "execution_count": null,
   "id": "1a24291e",
   "metadata": {},
   "outputs": [],
   "source": [
    "from sage.all import pi\n",
    "exp(2*I*pi)"
   ]
  },
  {
   "cell_type": "code",
   "execution_count": null,
   "id": "a09c2796",
   "metadata": {},
   "outputs": [],
   "source": [
    "restore()   # restores to their default value all predefined variables and functions."
   ]
  },
  {
   "cell_type": "code",
   "execution_count": null,
   "id": "eecbd2fe",
   "metadata": {},
   "outputs": [],
   "source": [
    "reset()     # clear ALL default values and user-defined variables."
   ]
  },
  {
   "cell_type": "markdown",
   "id": "cbbfc133",
   "metadata": {},
   "source": [
    "## Symbolic Variables"
   ]
  },
  {
   "cell_type": "code",
   "execution_count": null,
   "id": "aaf337a7",
   "metadata": {},
   "outputs": [],
   "source": [
    "z = SR.var('z')    # SR stands for Symbolic Ring"
   ]
  },
  {
   "cell_type": "code",
   "execution_count": null,
   "id": "6e6621af",
   "metadata": {},
   "outputs": [],
   "source": [
    "2*z + 3"
   ]
  },
  {
   "cell_type": "code",
   "execution_count": null,
   "id": "a79bc493",
   "metadata": {},
   "outputs": [],
   "source": [
    "y = SR.var('z')"
   ]
  },
  {
   "cell_type": "code",
   "execution_count": null,
   "id": "485164ec",
   "metadata": {},
   "outputs": [],
   "source": [
    "2*y + 3"
   ]
  },
  {
   "cell_type": "code",
   "execution_count": null,
   "id": "83c16ac4",
   "metadata": {},
   "outputs": [],
   "source": [
    "c = 2 * y + 3\n",
    "z = 1             # Python variable z is 1.\n",
    "2*y + 3"
   ]
  },
  {
   "cell_type": "code",
   "execution_count": null,
   "id": "dbb1dace",
   "metadata": {},
   "outputs": [],
   "source": [
    "c"
   ]
  },
  {
   "cell_type": "markdown",
   "id": "c6b9cbe5",
   "metadata": {},
   "source": [
    "Except the symbolic variable x, which is predefined in Sage."
   ]
  },
  {
   "cell_type": "code",
   "execution_count": null,
   "id": "67f6dc20",
   "metadata": {},
   "outputs": [],
   "source": [
    "x = SR.var('x')   # Don't need it"
   ]
  },
  {
   "cell_type": "code",
   "execution_count": null,
   "id": "38ff0ac9",
   "metadata": {},
   "outputs": [],
   "source": [
    "expr = sin(x); expr"
   ]
  },
  {
   "cell_type": "code",
   "execution_count": null,
   "id": "c1bf79a2",
   "metadata": {},
   "outputs": [],
   "source": [
    "expr(x=1)   # substitution"
   ]
  },
  {
   "cell_type": "code",
   "execution_count": null,
   "id": "e3d13daf",
   "metadata": {},
   "outputs": [],
   "source": [
    "u = SR.var('u')\n",
    "u = u+1\n",
    "u = u+1\n",
    "u"
   ]
  },
  {
   "cell_type": "code",
   "execution_count": null,
   "id": "9f64a589",
   "metadata": {},
   "outputs": [],
   "source": [
    "x = SR.var('x', 10)\n",
    "x"
   ]
  },
  {
   "cell_type": "code",
   "execution_count": null,
   "id": "56d1188f",
   "metadata": {},
   "outputs": [],
   "source": [
    "(x[0] + x[1])*x[9]"
   ]
  },
  {
   "cell_type": "code",
   "execution_count": null,
   "id": "4693f65d",
   "metadata": {},
   "outputs": [],
   "source": [
    "var('a, b, c, x, y')    # var is a conventient alternative for SR.var"
   ]
  },
  {
   "cell_type": "code",
   "execution_count": null,
   "id": "926c08fb",
   "metadata": {},
   "outputs": [],
   "source": [
    "a * x + b * y + c"
   ]
  },
  {
   "cell_type": "markdown",
   "id": "15e35baf",
   "metadata": {},
   "source": [
    "## First Graphics"
   ]
  },
  {
   "cell_type": "code",
   "execution_count": null,
   "id": "3eb2b569",
   "metadata": {},
   "outputs": [],
   "source": [
    "plot(sin(2*x), x, -pi, pi)"
   ]
  },
  {
   "cell_type": "code",
   "execution_count": null,
   "id": "889362cd",
   "metadata": {
    "scrolled": false
   },
   "outputs": [],
   "source": [
    "plot3d( sin(pi*sqrt(x^2 + y^2))/sqrt(x^2+y^2), \n",
    "       (x,-5,5), (y,-5,5) )"
   ]
  },
  {
   "cell_type": "markdown",
   "id": "37aa80cb",
   "metadata": {},
   "source": [
    "## First programming"
   ]
  },
  {
   "cell_type": "code",
   "execution_count": null,
   "id": "539ae47d",
   "metadata": {},
   "outputs": [],
   "source": [
    "for j in [11, 14..79]:\n",
    "    print(j, end = \", \")"
   ]
  },
  {
   "cell_type": "code",
   "execution_count": null,
   "id": "48919237",
   "metadata": {},
   "outputs": [],
   "source": [
    "for j in [11, 14..79]:\n",
    "    if j % 5 == 0:\n",
    "        print()\n",
    "    print(j, end = \", \")"
   ]
  },
  {
   "cell_type": "code",
   "execution_count": null,
   "id": "46f40440",
   "metadata": {},
   "outputs": [],
   "source": [
    "for j in [11, 14..79]:\n",
    "    if j % 5 == 0:\n",
    "        pass\n",
    "    print(j, end = \", \")"
   ]
  },
  {
   "cell_type": "code",
   "execution_count": null,
   "id": "0376d1dc",
   "metadata": {},
   "outputs": [],
   "source": [
    "for j in [11, 14..79]:\n",
    "    if j % 5 == 0:\n",
    "        continue\n",
    "    print(j, end = \", \")"
   ]
  },
  {
   "cell_type": "code",
   "execution_count": null,
   "id": "3ec31fd5",
   "metadata": {},
   "outputs": [],
   "source": [
    "for j in [11, 14..79]:\n",
    "    if j % 5 == 0:\n",
    "        break\n",
    "    print(j, end = \", \")"
   ]
  },
  {
   "cell_type": "code",
   "execution_count": null,
   "id": "1ef9302f",
   "metadata": {},
   "outputs": [],
   "source": [
    "N = 100\n",
    "C = [i*j for i in [2..N] for j in [2..N]]     # composite numbers\n",
    "P = [p for p in [2..N] if p not in C]         # prime numbers\n",
    "print(P)"
   ]
  },
  {
   "cell_type": "code",
   "execution_count": null,
   "id": "bedbb972",
   "metadata": {},
   "outputs": [],
   "source": []
  }
 ],
 "metadata": {
  "kernelspec": {
   "display_name": "SageMath 9.4",
   "language": "sage",
   "name": "sagemath"
  },
  "language_info": {
   "codemirror_mode": {
    "name": "ipython",
    "version": 3
   },
   "file_extension": ".py",
   "mimetype": "text/x-python",
   "name": "python",
   "nbconvert_exporter": "python",
   "pygments_lexer": "ipython3",
   "version": "3.9.7"
  }
 },
 "nbformat": 4,
 "nbformat_minor": 5
}
