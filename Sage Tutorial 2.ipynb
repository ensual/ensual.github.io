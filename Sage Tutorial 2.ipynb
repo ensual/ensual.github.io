{
 "cells": [
  {
   "cell_type": "markdown",
   "id": "1c3437f0",
   "metadata": {},
   "source": [
    "# Symbolic Expressions and Simplification"
   ]
  },
  {
   "cell_type": "code",
   "execution_count": null,
   "id": "a7ca82aa",
   "metadata": {},
   "outputs": [],
   "source": [
    "# Sage does not recognise two expressions as equal \n",
    "bool(arctan(1+abs(x)) == pi/2 - arctan(1/(1+abs(x))))"
   ]
  },
  {
   "cell_type": "code",
   "execution_count": null,
   "id": "52eded74",
   "metadata": {},
   "outputs": [],
   "source": [
    "x = var('x')\n",
    "plot( arctan(1+abs(x)) + arctan(1/(1+abs(x))) , (x, -5, 5))"
   ]
  },
  {
   "cell_type": "code",
   "execution_count": null,
   "id": "4fcbad63",
   "metadata": {},
   "outputs": [],
   "source": [
    "a, x = var('a, x')\n",
    "y = cos(x+a) * (x+1); y"
   ]
  },
  {
   "cell_type": "code",
   "execution_count": null,
   "id": "554722df",
   "metadata": {},
   "outputs": [],
   "source": [
    "y.subs(a=-x)"
   ]
  },
  {
   "cell_type": "code",
   "execution_count": null,
   "id": "f11a97b8",
   "metadata": {},
   "outputs": [],
   "source": [
    "y.subs(x=pi/2, a=pi/3)"
   ]
  },
  {
   "cell_type": "code",
   "execution_count": null,
   "id": "d76bdee0",
   "metadata": {},
   "outputs": [],
   "source": [
    "y.subs(x=0.5, a=2.3)"
   ]
  },
  {
   "cell_type": "code",
   "execution_count": null,
   "id": "b3448918",
   "metadata": {},
   "outputs": [],
   "source": [
    "y(a=-x)"
   ]
  },
  {
   "cell_type": "code",
   "execution_count": null,
   "id": "0829eb95",
   "metadata": {},
   "outputs": [],
   "source": [
    "y(x=pi/2, a=pi/3)"
   ]
  },
  {
   "cell_type": "code",
   "execution_count": null,
   "id": "1d65328a",
   "metadata": {},
   "outputs": [],
   "source": [
    " y(x=0.5, a=2.3)"
   ]
  },
  {
   "cell_type": "code",
   "execution_count": null,
   "id": "82dcbbc2",
   "metadata": {},
   "outputs": [],
   "source": [
    "x, y, z = var('x, y, z')\n",
    "q = x*y + y*z + z*x\n",
    "bool(q(x=y, y=z, z=x) == q), bool(q(z=y)(y=x) == 3*x^2)"
   ]
  },
  {
   "cell_type": "code",
   "execution_count": null,
   "id": "61153fe6",
   "metadata": {},
   "outputs": [],
   "source": [
    "y, z = var('y, z'); f = x^3 + y^2 + z\n",
    "f.substitute(x^3 == y^2, z==1)"
   ]
  },
  {
   "cell_type": "code",
   "execution_count": null,
   "id": "d939d91b",
   "metadata": {},
   "outputs": [],
   "source": [
    "f(x)=(2*x+1)^3 \n",
    "f(-3)"
   ]
  },
  {
   "cell_type": "code",
   "execution_count": null,
   "id": "4463fbe9",
   "metadata": {},
   "outputs": [],
   "source": [
    "f.expand()"
   ]
  },
  {
   "cell_type": "code",
   "execution_count": null,
   "id": "d6fae85c",
   "metadata": {},
   "outputs": [],
   "source": [
    "y = var('y')\n",
    "u = sin(x) + x*cos(y)\n",
    "v = u.function(x, y)\n",
    "v"
   ]
  },
  {
   "cell_type": "code",
   "execution_count": null,
   "id": "3a3097e2",
   "metadata": {},
   "outputs": [],
   "source": [
    "w(x, y) = u\n",
    "w"
   ]
  },
  {
   "cell_type": "code",
   "execution_count": null,
   "id": "4c57da93",
   "metadata": {},
   "outputs": [],
   "source": [
    "x, y = SR.var('x,y')"
   ]
  },
  {
   "cell_type": "code",
   "execution_count": null,
   "id": "383e7e40",
   "metadata": {},
   "outputs": [],
   "source": [
    "p = (x+y)*(x+1)^2\n",
    "p2 = p.expand()\n",
    "p2"
   ]
  },
  {
   "cell_type": "code",
   "execution_count": null,
   "id": "99553eea",
   "metadata": {},
   "outputs": [],
   "source": [
    "p2.collect(x)"
   ]
  },
  {
   "cell_type": "code",
   "execution_count": null,
   "id": "7012f75c",
   "metadata": {},
   "outputs": [],
   "source": [
    "((x+y+sin(x))^2).expand().collect(sin(x))"
   ]
  },
  {
   "cell_type": "code",
   "execution_count": null,
   "id": "2c1d6a53",
   "metadata": {},
   "outputs": [],
   "source": [
    "(x^x/x).simplify()"
   ]
  },
  {
   "cell_type": "code",
   "execution_count": null,
   "id": "76781556",
   "metadata": {},
   "outputs": [],
   "source": [
    "f = (e^x-1) / (1+e^(x/2))\n",
    "f.canonicalize_radical()"
   ]
  },
  {
   "cell_type": "code",
   "execution_count": null,
   "id": "5c73072b",
   "metadata": {},
   "outputs": [],
   "source": [
    "f = cos(x)^6 + sin(x)^6 + 3 * sin(x)^2 * cos(x)^2\n",
    "f.simplify_trig()"
   ]
  },
  {
   "cell_type": "code",
   "execution_count": null,
   "id": "1ab54348",
   "metadata": {},
   "outputs": [],
   "source": [
    "f = cos(x)^6\n",
    "f.reduce_trig().show()"
   ]
  },
  {
   "cell_type": "code",
   "execution_count": null,
   "id": "c354fa1a",
   "metadata": {},
   "outputs": [],
   "source": [
    "f = sin(5 * x)\n",
    "f.expand_trig().show()"
   ]
  },
  {
   "cell_type": "code",
   "execution_count": null,
   "id": "9c149e94",
   "metadata": {},
   "outputs": [],
   "source": [
    "n = var('n')\n",
    "f = factorial(n+1)/factorial(n)\n",
    "f.simplify_factorial()"
   ]
  },
  {
   "cell_type": "code",
   "execution_count": null,
   "id": "7ad7d83e",
   "metadata": {},
   "outputs": [],
   "source": [
    "f = sqrt(abs(x)^2)\n",
    "f.canonicalize_radical()"
   ]
  },
  {
   "cell_type": "code",
   "execution_count": null,
   "id": "8df9629f",
   "metadata": {},
   "outputs": [],
   "source": [
    "f = log(x*y)\n",
    "f.canonicalize_radical()"
   ]
  },
  {
   "cell_type": "code",
   "execution_count": null,
   "id": "5ad197e2",
   "metadata": {},
   "outputs": [],
   "source": [
    "assume(x > 0)\n",
    "bool(sqrt(x^2) == x)"
   ]
  },
  {
   "cell_type": "code",
   "execution_count": null,
   "id": "065006ee",
   "metadata": {},
   "outputs": [],
   "source": [
    "forget(x > 0)\n",
    "bool(sqrt(x^2) == x)"
   ]
  },
  {
   "cell_type": "code",
   "execution_count": null,
   "id": "ff9dccb4",
   "metadata": {},
   "outputs": [],
   "source": [
    "n = var('n')\n",
    "assume(n, 'integer')\n",
    "sin(n*pi)"
   ]
  },
  {
   "cell_type": "code",
   "execution_count": null,
   "id": "530a0bb2",
   "metadata": {},
   "outputs": [],
   "source": [
    "a = var('a')\n",
    "c = (a+1)^2 - (a^2+2*a+1)    # c = 0\n",
    "eq = c * x == 0\n",
    "eq"
   ]
  },
  {
   "cell_type": "code",
   "execution_count": null,
   "id": "75245312",
   "metadata": {},
   "outputs": [],
   "source": [
    "eq2 = eq / c     # divide by zero\n",
    "eq2"
   ]
  },
  {
   "cell_type": "code",
   "execution_count": null,
   "id": "5f3d40c3",
   "metadata": {},
   "outputs": [],
   "source": [
    "solve(eq2, x)"
   ]
  },
  {
   "cell_type": "code",
   "execution_count": null,
   "id": "f63e25b4",
   "metadata": {},
   "outputs": [],
   "source": [
    "solve(eq, x)     # Sage avoids this mistake."
   ]
  },
  {
   "cell_type": "code",
   "execution_count": null,
   "id": "f106b7cc",
   "metadata": {},
   "outputs": [],
   "source": [
    "expand(c)"
   ]
  },
  {
   "cell_type": "code",
   "execution_count": null,
   "id": "892efea7",
   "metadata": {},
   "outputs": [],
   "source": [
    "c = cos(a)^2 + sin(a)^2 - 1    # c = 0\n",
    "eq = c*x == 0\n",
    "solve(eq, x)      # Sage does not avoid the pitfall."
   ]
  },
  {
   "cell_type": "code",
   "execution_count": null,
   "id": "ea7fde33",
   "metadata": {},
   "outputs": [],
   "source": [
    "c.simplify_trig()"
   ]
  },
  {
   "cell_type": "code",
   "execution_count": null,
   "id": "7cf911ea",
   "metadata": {},
   "outputs": [],
   "source": [
    "c.is_zero()"
   ]
  },
  {
   "cell_type": "markdown",
   "id": "1cc52cf9",
   "metadata": {},
   "source": [
    "# Equations"
   ]
  },
  {
   "cell_type": "code",
   "execution_count": null,
   "id": "3072053c",
   "metadata": {},
   "outputs": [],
   "source": [
    "z, phi = var('z, phi')\n",
    "eq = z**2 - 2/cos(phi)*z + 5/cos(phi)**2 - 4 == 0\n",
    "eq.show()"
   ]
  },
  {
   "cell_type": "code",
   "execution_count": null,
   "id": "99a80c11",
   "metadata": {},
   "outputs": [],
   "source": [
    "eq.lhs()"
   ]
  },
  {
   "cell_type": "code",
   "execution_count": null,
   "id": "7afc4701",
   "metadata": {},
   "outputs": [],
   "source": [
    "eq.rhs()"
   ]
  },
  {
   "cell_type": "code",
   "execution_count": null,
   "id": "a431891e",
   "metadata": {},
   "outputs": [],
   "source": [
    "sols = solve(eq, z)\n",
    "show(sols)"
   ]
  },
  {
   "cell_type": "code",
   "execution_count": null,
   "id": "e90ba195",
   "metadata": {},
   "outputs": [],
   "source": [
    "y = var('y')\n",
    "sols = solve(y^7==y, y)\n",
    "show(sols)"
   ]
  },
  {
   "cell_type": "code",
   "execution_count": null,
   "id": "24b68103",
   "metadata": {},
   "outputs": [],
   "source": [
    "solve(x^2-1, x, solution_dict=True)     # dictionary"
   ]
  },
  {
   "cell_type": "code",
   "execution_count": null,
   "id": "517c3bd3",
   "metadata": {},
   "outputs": [],
   "source": [
    "solve([x+y == 3, 2*x+2*y == 6], x, y)   # System of two equations"
   ]
  },
  {
   "cell_type": "code",
   "execution_count": null,
   "id": "dfb1e5e5",
   "metadata": {},
   "outputs": [],
   "source": [
    "solve([cos(x)*sin(x) == 1/2, x+y == 0], x, y)"
   ]
  },
  {
   "cell_type": "code",
   "execution_count": null,
   "id": "5a16869d",
   "metadata": {},
   "outputs": [],
   "source": [
    "sols = solve(x^2+x-1 > 0, x)            # inequalities\n",
    "show(sols)"
   ]
  },
  {
   "cell_type": "code",
   "execution_count": null,
   "id": "39d45442",
   "metadata": {},
   "outputs": [],
   "source": [
    "x, y, z = var('x, y, z')\n",
    "sols = solve([x^2 * y * z == 18, x * y^3 * z == 24, x * y * z^4 == 6], x, y, z)\n",
    "for sol in sols: \n",
    "    print(sol)\n",
    "len(sols)        # 17 solutions, among which 16 are approximate complex solutions"
   ]
  },
  {
   "cell_type": "code",
   "execution_count": null,
   "id": "28480649",
   "metadata": {},
   "outputs": [],
   "source": [
    "expr = sin(x) + sin(2 * x) + sin(3 * x)\n",
    "solve(expr, x)"
   ]
  },
  {
   "cell_type": "code",
   "execution_count": null,
   "id": "9477d621",
   "metadata": {},
   "outputs": [],
   "source": [
    "find_root(expr, 0.1, pi)     # numerical solution"
   ]
  },
  {
   "cell_type": "code",
   "execution_count": null,
   "id": "7dac7ab3",
   "metadata": {},
   "outputs": [],
   "source": [
    "f = expr.simplify_trig()\n",
    "f"
   ]
  },
  {
   "cell_type": "code",
   "execution_count": null,
   "id": "9e374033",
   "metadata": {},
   "outputs": [],
   "source": [
    "solve(f, x)"
   ]
  },
  {
   "cell_type": "code",
   "execution_count": null,
   "id": "077b552a",
   "metadata": {},
   "outputs": [],
   "source": [
    "sols = (x^3+2*x+1).roots(x)    # with their multiplicity\n",
    "show(sols)"
   ]
  },
  {
   "cell_type": "code",
   "execution_count": null,
   "id": "fb2b99e4",
   "metadata": {},
   "outputs": [],
   "source": [
    "(x^3+2*x+1).roots(x, ring=RR)    # RR means \"Real Field with 53 bits of precision\""
   ]
  },
  {
   "cell_type": "code",
   "execution_count": null,
   "id": "5d52dae0",
   "metadata": {},
   "outputs": [],
   "source": [
    "(x^3+2*x+1).roots(x, ring=CC)    # CC means \"Complex Field with 53 bits of precision\""
   ]
  },
  {
   "cell_type": "code",
   "execution_count": null,
   "id": "05d40b76",
   "metadata": {},
   "outputs": [],
   "source": [
    "solve(x^(1/x)==(1/x)^x, x)     # no explicit solution"
   ]
  },
  {
   "cell_type": "code",
   "execution_count": null,
   "id": "35b92e05",
   "metadata": {},
   "outputs": [],
   "source": [
    "y = function('y')(x)\n",
    "y"
   ]
  },
  {
   "cell_type": "code",
   "execution_count": null,
   "id": "be8f2dd1",
   "metadata": {},
   "outputs": [],
   "source": [
    "desolve(diff(y,x,x) + x*diff(y,x) + y == 0, y, [0,0,1]).show()"
   ]
  },
  {
   "cell_type": "markdown",
   "id": "81248e6e",
   "metadata": {},
   "source": [
    "# Analysis"
   ]
  },
  {
   "cell_type": "markdown",
   "id": "8eb4e50d",
   "metadata": {},
   "source": [
    "## Sums"
   ]
  },
  {
   "cell_type": "code",
   "execution_count": null,
   "id": "e346046f",
   "metadata": {},
   "outputs": [],
   "source": [
    "k, n = var('k, n')\n",
    "sum(k, k, 1, n).factor().show()"
   ]
  },
  {
   "cell_type": "code",
   "execution_count": null,
   "id": "29a1692a",
   "metadata": {},
   "outputs": [],
   "source": [
    "n, k, y = var('n, k, y')\n",
    "sum(binomial(n,k) * x^k * y^(n-k), k, 0, n).show()"
   ]
  },
  {
   "cell_type": "code",
   "execution_count": null,
   "id": "04daea2a",
   "metadata": {},
   "outputs": [],
   "source": [
    "k, n = var('k, n')\n",
    "(\n",
    "    sum(binomial(n,k), k, 0, n), \n",
    "    sum(k * binomial(n, k), k, 0, n), \n",
    "    sum((-1)^k*binomial(n,k), k, 0, n),\n",
    ")"
   ]
  },
  {
   "cell_type": "code",
   "execution_count": null,
   "id": "4ac7a238",
   "metadata": {},
   "outputs": [],
   "source": [
    "a, q, k, n = var('a, q, k, n')\n",
    "sum(a*q^k, k, 0, n).show()"
   ]
  },
  {
   "cell_type": "code",
   "execution_count": null,
   "id": "d8284702",
   "metadata": {},
   "outputs": [],
   "source": [
    "forget()\n",
    "assume(abs(q) < 1)\n",
    "sum(a*q^k, k, 0, oo).show()   # oo means infinity"
   ]
  },
  {
   "cell_type": "code",
   "execution_count": null,
   "id": "a84c0337",
   "metadata": {},
   "outputs": [],
   "source": [
    "forget()\n",
    "assume(q > 1)\n",
    "# sum(a*q^k, k, 0, infinity)    # error since the sum is divergent."
   ]
  },
  {
   "cell_type": "markdown",
   "id": "a3d52a83",
   "metadata": {},
   "source": [
    "## Limits"
   ]
  },
  {
   "cell_type": "markdown",
   "id": "af6e6310",
   "metadata": {},
   "source": [
    "Let us compute the following limits:\n",
    "* $\\displaystyle \\lim_{x \\to 8} \\frac{\\sqrt[3]{x} -2 }{\\sqrt[3]{x+19} - 3} $\n",
    "* $\\displaystyle \\lim_{x \\to \\frac{\\pi}{4}} \\frac{\\cos\\left( \\frac{\\pi}{4} - x \\right) - \\tan x}{1 - \\sin\\left( \\frac{\\pi}{4} + x \\right)} $"
   ]
  },
  {
   "cell_type": "code",
   "execution_count": null,
   "id": "97caf346",
   "metadata": {},
   "outputs": [],
   "source": [
    "limit((x**(1/3) - 2) / ((x + 19)**(1/3) - 3), x = 8)"
   ]
  },
  {
   "cell_type": "code",
   "execution_count": null,
   "id": "d12edcbb",
   "metadata": {},
   "outputs": [],
   "source": [
    "f(x) = (cos(pi/4-x)-tan(x))/(1-sin(pi/4 + x))\n",
    "limit(f(x), x = pi/4)"
   ]
  },
  {
   "cell_type": "code",
   "execution_count": null,
   "id": "85b36604",
   "metadata": {},
   "outputs": [],
   "source": [
    "limit(f(x), x = pi/4, dir='minus')"
   ]
  },
  {
   "cell_type": "code",
   "execution_count": null,
   "id": "a0f109d0",
   "metadata": {},
   "outputs": [],
   "source": [
    "limit(f(x), x = pi/4, dir='plus')"
   ]
  },
  {
   "cell_type": "markdown",
   "id": "c28420db",
   "metadata": {},
   "source": [
    "## Sequences"
   ]
  },
  {
   "cell_type": "markdown",
   "id": "f7098bf3",
   "metadata": {},
   "source": [
    "**Example.** (A sequence study) Let us consider the sequence \n",
    "$$u_n = \\frac{n^{100}}{100^n}.$$\n",
    "- Compute the first $10$ terms. \n",
    "- How does the sequence vary?\n",
    "- What is the sequence limit? \n",
    "- From which value of $n$ does $u_n \\in (0, 10^{-8})$ hold?"
   ]
  },
  {
   "cell_type": "code",
   "execution_count": null,
   "id": "94a63f64",
   "metadata": {},
   "outputs": [],
   "source": [
    "u(n) = n^100 / 100^n\n",
    "u(1.), u(2.), u(3.), u(4.), u(5.), u(6.), u(7.), u(8.), u(9.), u(10.)"
   ]
  },
  {
   "cell_type": "code",
   "execution_count": null,
   "id": "07cb452b",
   "metadata": {},
   "outputs": [],
   "source": [
    "plot(u(x), x, 1, 40)"
   ]
  },
  {
   "cell_type": "code",
   "execution_count": null,
   "id": "005d18c2",
   "metadata": {},
   "outputs": [],
   "source": [
    "v(x) = diff(u(x), x)\n",
    "sol = solve(v(x) == 0, x)\n",
    "sol"
   ]
  },
  {
   "cell_type": "code",
   "execution_count": null,
   "id": "bdb1126a",
   "metadata": {},
   "outputs": [],
   "source": [
    "floor(sol[0].rhs())"
   ]
  },
  {
   "cell_type": "code",
   "execution_count": null,
   "id": "5112bc69",
   "metadata": {},
   "outputs": [],
   "source": [
    "limit(u(n), n=infinity)"
   ]
  },
  {
   "cell_type": "code",
   "execution_count": null,
   "id": "21a09321",
   "metadata": {},
   "outputs": [],
   "source": [
    "n0 = find_root(u(n) - 1e-8 == 0, 22, 1000)\n",
    "n0"
   ]
  },
  {
   "cell_type": "markdown",
   "id": "e420fd9c",
   "metadata": {},
   "source": [
    "## Power Series Expansions"
   ]
  },
  {
   "cell_type": "markdown",
   "id": "298c380f",
   "metadata": {},
   "source": [
    "Let us determine the power series expansion of the following functions:\n",
    "* $(1+\\arctan x)^{\\frac{1}{x}}$ of order $3$, at $x_0 = 0$;\n",
    "* $\\ln(2\\sin x)$ of order $3$, at $x_0 = \\frac{\\pi}{6}$."
   ]
  },
  {
   "cell_type": "code",
   "execution_count": null,
   "id": "5241d5d9",
   "metadata": {},
   "outputs": [],
   "source": [
    "((1+arctan(x))^(1/x)).series(x==0, 3).show()"
   ]
  },
  {
   "cell_type": "code",
   "execution_count": null,
   "id": "ddc28fa9",
   "metadata": {},
   "outputs": [],
   "source": [
    "(ln(2*sin(x))).series(x==pi/6, 3).show()"
   ]
  },
  {
   "cell_type": "code",
   "execution_count": null,
   "id": "4865a0aa",
   "metadata": {},
   "outputs": [],
   "source": [
    "(ln(2*sin(x))).series(x==pi/6, 3).truncate().show()"
   ]
  },
  {
   "cell_type": "markdown",
   "id": "993882bc",
   "metadata": {},
   "source": [
    "$(x^3 + x)^{\\frac{1}{2}} - (x^3 - x)^{\\frac{1}{3}}$ behaves around $+\\infty$."
   ]
  },
  {
   "cell_type": "code",
   "execution_count": null,
   "id": "4a94f44c",
   "metadata": {},
   "outputs": [],
   "source": [
    "taylor((x**3+x)**(1/3) - (x**3-x)**(1/3), x, infinity, 10)"
   ]
  },
  {
   "cell_type": "markdown",
   "id": "30d42246",
   "metadata": {},
   "source": [
    "**Example.** (Machin’s formula) Prove the following formula:\n",
    "$$\\frac{\\pi}{4} = 4 \\arctan \\frac{1}{5} - \\arctan \\frac{1}{239}$$"
   ]
  },
  {
   "cell_type": "code",
   "execution_count": null,
   "id": "aaee22e9",
   "metadata": {},
   "outputs": [],
   "source": [
    "tan(4*arctan(1/5)).simplify_trig()"
   ]
  },
  {
   "cell_type": "code",
   "execution_count": null,
   "id": "cf1c48c4",
   "metadata": {},
   "outputs": [],
   "source": [
    "tan(pi/4+arctan(1/239)).simplify_trig()"
   ]
  },
  {
   "cell_type": "code",
   "execution_count": null,
   "id": "64722014",
   "metadata": {},
   "outputs": [],
   "source": [
    "f = arctan(x).series(x, 10)\n",
    "f.show()"
   ]
  },
  {
   "cell_type": "code",
   "execution_count": null,
   "id": "41d3b4e4",
   "metadata": {},
   "outputs": [],
   "source": [
    "(\n",
    "    (16*f.subs(x==1/5) - 4*f.subs(x==1/239)).n(),\n",
    "    pi.n(),\n",
    ")"
   ]
  },
  {
   "cell_type": "markdown",
   "id": "e01b09fe",
   "metadata": {},
   "source": [
    "## Series"
   ]
  },
  {
   "cell_type": "markdown",
   "id": "be3e32c0",
   "metadata": {},
   "source": [
    "**Example.** (Evaluation of the Riemann zeta function)"
   ]
  },
  {
   "cell_type": "code",
   "execution_count": null,
   "id": "2613a38b",
   "metadata": {},
   "outputs": [],
   "source": [
    "k = var('k')\n",
    "expr = (\n",
    "    sum(1/k^2, k, 1, infinity),\n",
    "    sum(1/k^4, k, 1, infinity),\n",
    "    sum(1/k^5, k, 1, infinity),\n",
    ")\n",
    "show(expr)"
   ]
  },
  {
   "cell_type": "markdown",
   "id": "34a0d5ac",
   "metadata": {},
   "source": [
    "**Example.** (A formula due to Ramanujan) Using the first $12$ terms of the following series, we give an approximation of and we compare it with the value given by Sage.\n",
    "$$\\frac{1}{\\pi} = \\frac{2\\sqrt{2}}{9801} \\sum_{k=0}^{\\infty} \\frac{(4k)! \\cdot (1103+26390 k)}{(k!)^4 \\cdot 396^{4k}}$$"
   ]
  },
  {
   "cell_type": "code",
   "execution_count": null,
   "id": "91173613",
   "metadata": {},
   "outputs": [],
   "source": [
    "s = 2*sqrt(2)/9801 * (\n",
    "    sum(\n",
    "        ( factorial(4*k) * (1103+26390*k) ) / ((factorial(k))^4 * 396^(4*k)) \n",
    "        for k in (0..11)\n",
    "       )\n",
    ")\n",
    "(1/s).n(digits=100)"
   ]
  },
  {
   "cell_type": "code",
   "execution_count": null,
   "id": "272c2b24",
   "metadata": {},
   "outputs": [],
   "source": [
    "(pi-1/s).n(digits=100).n()\n",
    "# the partial sum of the first 12 terms already yields 95 significant digits of pi."
   ]
  },
  {
   "cell_type": "markdown",
   "id": "4678c1bf",
   "metadata": {},
   "source": [
    "**Example.** (Convergence of a series) Let us study the convergence of the series\n",
    "$$\\sum_{n\\geq 0 } \\sin\\left( \\pi \\sqrt{4n^2 + 1} \\right)$$"
   ]
  },
  {
   "cell_type": "code",
   "execution_count": null,
   "id": "75e87fb3",
   "metadata": {},
   "outputs": [],
   "source": [
    "n = var('n')\n",
    "u = sin(pi*(sqrt(4*n^2+1)-2*n))\n",
    "taylor(u, n, infinity, 3).show()"
   ]
  },
  {
   "cell_type": "markdown",
   "id": "99b23053",
   "metadata": {},
   "source": [
    "We deduce $u_n \\sim \\frac{\\pi}{4}$, so the series $\\sum_{n\\geq 0} u_n$ diverges."
   ]
  },
  {
   "cell_type": "markdown",
   "id": "e0aeb0cb",
   "metadata": {},
   "source": [
    "## Derivatives"
   ]
  },
  {
   "cell_type": "code",
   "execution_count": null,
   "id": "dbac70cf",
   "metadata": {},
   "outputs": [],
   "source": [
    "diff(sin(x^2), x)"
   ]
  },
  {
   "cell_type": "code",
   "execution_count": null,
   "id": "9903f797",
   "metadata": {},
   "outputs": [],
   "source": [
    "reset()\n",
    "f(x) = function('f')(x)\n",
    "g(x) = function('g')(x)\n",
    "diff(f(g(x)), x).show()"
   ]
  },
  {
   "cell_type": "code",
   "execution_count": null,
   "id": "1f334384",
   "metadata": {},
   "outputs": [],
   "source": [
    "diff(ln(f(x)), x)"
   ]
  },
  {
   "cell_type": "markdown",
   "id": "b87fca4b",
   "metadata": {},
   "source": [
    "## Partial Derivatives"
   ]
  },
  {
   "cell_type": "code",
   "execution_count": null,
   "id": "e784f4af",
   "metadata": {},
   "outputs": [],
   "source": [
    "f(x,y) = x*y + sin(x^2) + e^(-x)\n",
    "derivative(f, x)"
   ]
  },
  {
   "cell_type": "code",
   "execution_count": null,
   "id": "7bd38aae",
   "metadata": {},
   "outputs": [],
   "source": [
    "derivative(f, y)    # or diff(f, y), or f.diff(y)"
   ]
  },
  {
   "cell_type": "markdown",
   "id": "b9d363fd",
   "metadata": {},
   "source": [
    "Let us check that the following function is _harmonic_:\n",
    "$$f(x,y) = \\frac{1}{2} \\ln(x^2 + y^2) \\quad \\text{for all $(x,y) \\neq (0,0)$.}$$\n",
    "Note that a function $f$ is said _harmonic_ when its Laplacian $\\Delta f = \\partial_1^2 f + \\partial_2^2 f$."
   ]
  },
  {
   "cell_type": "code",
   "execution_count": null,
   "id": "be05dd14",
   "metadata": {},
   "outputs": [],
   "source": [
    "x, y = var('x, y')\n",
    "f = ln(x**2+y**2) / 2\n",
    "delta = diff(f,x,2) + diff(f,y,2)\n",
    "delta.simplify_rational()"
   ]
  },
  {
   "cell_type": "markdown",
   "id": "5b34a752",
   "metadata": {},
   "source": [
    "## Integrals"
   ]
  },
  {
   "cell_type": "code",
   "execution_count": null,
   "id": "7df7ff94",
   "metadata": {},
   "outputs": [],
   "source": [
    "sin(x).integral(x, 0, pi/2)"
   ]
  },
  {
   "cell_type": "code",
   "execution_count": null,
   "id": "3e01c794",
   "metadata": {},
   "outputs": [],
   "source": [
    "integrate(1/(1+x^2), x)"
   ]
  },
  {
   "cell_type": "code",
   "execution_count": null,
   "id": "c1fb5c52",
   "metadata": {},
   "outputs": [],
   "source": [
    "integrate(1/(1+x^2), x, -infinity, infinity)"
   ]
  },
  {
   "cell_type": "code",
   "execution_count": null,
   "id": "35836b81",
   "metadata": {},
   "outputs": [],
   "source": [
    "integrate(exp(-x**2), x, 0, infinity)"
   ]
  },
  {
   "cell_type": "code",
   "execution_count": null,
   "id": "e3ba371c",
   "metadata": {},
   "outputs": [],
   "source": [
    "# integrate(exp(-x), x, -infinity, infinity)   # error since integral is divergent."
   ]
  },
  {
   "cell_type": "markdown",
   "id": "469e133f",
   "metadata": {},
   "source": [
    "**Example.** Let us compute, for x 2 R, the integral\n",
    "$$\\varphi(x) = \\int_0^{\\infty} \\frac{x \\cos u }{u^2+x^2} \\ du.$$"
   ]
  },
  {
   "cell_type": "code",
   "execution_count": null,
   "id": "ec60aac8",
   "metadata": {
    "scrolled": false
   },
   "outputs": [],
   "source": [
    "forget()\n",
    "u = var('u')\n",
    "f = x * cos(u) / (u^2 + x^2)\n",
    "# f.integrate(u, 0, infinity)      # error, Is x positive, negative or zero?"
   ]
  },
  {
   "cell_type": "code",
   "execution_count": null,
   "id": "44d782c1",
   "metadata": {},
   "outputs": [],
   "source": [
    "forget()\n",
    "assume(x>0)\n",
    "A = f.integrate(u, 0, infinity, hold = 'True')\n",
    "show(A == A.unhold())"
   ]
  },
  {
   "cell_type": "code",
   "execution_count": null,
   "id": "670d8680",
   "metadata": {},
   "outputs": [],
   "source": [
    "forget()\n",
    "assume(x<0)\n",
    "A = f.integrate(u, 0, infinity, hold = 'True')\n",
    "show(A == A.unhold())"
   ]
  },
  {
   "cell_type": "markdown",
   "id": "48cc6be8",
   "metadata": {},
   "source": [
    "We have: $\\quad \\varphi(x) = \\frac{|x|}{x}  \\frac{\\pi}{2} e^{-|x|}$ for all $x \\in \\mathbb{R}^{*}.$"
   ]
  },
  {
   "cell_type": "code",
   "execution_count": null,
   "id": "9d121d57",
   "metadata": {},
   "outputs": [],
   "source": [
    "integral_numerical(sin(x)/x, 0, 1)    # ( the answer, an error estimate )"
   ]
  },
  {
   "cell_type": "code",
   "execution_count": null,
   "id": "03a8d317",
   "metadata": {},
   "outputs": [],
   "source": [
    "g = integrate(exp(-x**2), x, 0, infinity)\n",
    "g, g.n()"
   ]
  },
  {
   "cell_type": "code",
   "execution_count": null,
   "id": "561cc8fa",
   "metadata": {},
   "outputs": [],
   "source": [
    "approx = integral_numerical(exp(-x**2), 0, infinity)\n",
    "approx"
   ]
  },
  {
   "cell_type": "code",
   "execution_count": null,
   "id": "3af780ee",
   "metadata": {},
   "outputs": [],
   "source": [
    "approx[0]-g.n()"
   ]
  },
  {
   "cell_type": "markdown",
   "id": "1eacea17",
   "metadata": {},
   "source": [
    "# Basic Linear Algebra"
   ]
  },
  {
   "cell_type": "markdown",
   "id": "3dc66d84",
   "metadata": {},
   "source": [
    "## Matrix Computations"
   ]
  },
  {
   "cell_type": "code",
   "execution_count": null,
   "id": "fd950740",
   "metadata": {},
   "outputs": [],
   "source": [
    "A = matrix(QQ, [[1,2],[3,4]])\n",
    "A"
   ]
  },
  {
   "cell_type": "code",
   "execution_count": null,
   "id": "b71e2d25",
   "metadata": {},
   "outputs": [],
   "source": [
    "show(A)    # pretty_print(A)"
   ]
  },
  {
   "cell_type": "code",
   "execution_count": null,
   "id": "cf4e3c54",
   "metadata": {},
   "outputs": [],
   "source": [
    "B = A.inverse()\n",
    "show(B)"
   ]
  },
  {
   "cell_type": "code",
   "execution_count": null,
   "id": "7cf24bc0",
   "metadata": {},
   "outputs": [],
   "source": [
    "A = matrix(QQ, [[2,4,3],[-4,-6,-3],[3,3,1]])\n",
    "A.characteristic_polynomial()"
   ]
  },
  {
   "cell_type": "code",
   "execution_count": null,
   "id": "a5df32e2",
   "metadata": {},
   "outputs": [],
   "source": [
    "A.eigenvalues()"
   ]
  },
  {
   "cell_type": "code",
   "execution_count": null,
   "id": "4d5cbd0c",
   "metadata": {},
   "outputs": [],
   "source": [
    "A.minimal_polynomial().factor()"
   ]
  },
  {
   "cell_type": "code",
   "execution_count": null,
   "id": "dd6e4554",
   "metadata": {},
   "outputs": [],
   "source": [
    "eigen = A.eigenvectors_right()\n",
    "show(eigen)"
   ]
  },
  {
   "cell_type": "code",
   "execution_count": null,
   "id": "ca379731",
   "metadata": {},
   "outputs": [],
   "source": [
    "J = A.jordan_form(transformation=True)  # A is triangularisable.\n",
    "show(J)"
   ]
  },
  {
   "cell_type": "markdown",
   "id": "7ccc3d92",
   "metadata": {},
   "source": [
    "**Example.** Let us diagonalise the matrix \n",
    "$$A = \\begin{pmatrix}\n",
    "1 & −1/2 \\\\\n",
    "−1/2 & −1 \\\\\n",
    "\\end{pmatrix}\n",
    ".$$"
   ]
  },
  {
   "cell_type": "code",
   "execution_count": null,
   "id": "d9e9f184",
   "metadata": {},
   "outputs": [],
   "source": [
    "A = matrix(QQ, [[1,-1/2],[-1/2,-1]])  \n",
    "# A.jordan_form()          # error, A is NOT triangularisable in Rational Field."
   ]
  },
  {
   "cell_type": "code",
   "execution_count": null,
   "id": "8973c403",
   "metadata": {},
   "outputs": [],
   "source": [
    "A = matrix(QQ, [[1,-1/2],[-1/2,-1]])\n",
    "A.minimal_polynomial()"
   ]
  },
  {
   "cell_type": "code",
   "execution_count": null,
   "id": "c73155ac",
   "metadata": {},
   "outputs": [],
   "source": [
    "R = QQ[sqrt(5)]\n",
    "A = A.change_ring(R)\n",
    "J = A.jordan_form(transformation=True, subdivide=False)\n",
    "show(J)"
   ]
  },
  {
   "cell_type": "markdown",
   "id": "0f636fad",
   "metadata": {},
   "source": [
    "**Example.** Let us diagonalise the matrix \n",
    "$$A = \\begin{pmatrix}\n",
    "2 & \\sqrt{6} & \\sqrt{2} \\\\\n",
    "\\sqrt{6} & 3 & \\sqrt{3} \\\\\n",
    "\\sqrt{2} & \\sqrt{3} & 1 \\\\\n",
    "\\end{pmatrix}\n",
    ".$$"
   ]
  },
  {
   "cell_type": "code",
   "execution_count": null,
   "id": "b2f28861",
   "metadata": {},
   "outputs": [],
   "source": [
    "K.<sqrt2> = NumberField(x^2 - 2)\n",
    "L.<sqrt3> = K.extension(x^2 - 3)\n",
    "A = matrix(L, \n",
    "           [[2, sqrt2*sqrt3, sqrt2],\n",
    "            [sqrt2*sqrt3, 3, sqrt3],\n",
    "            [sqrt2, sqrt3, 1],\n",
    "           ] \n",
    "          )\n",
    "show(A)"
   ]
  },
  {
   "cell_type": "code",
   "execution_count": null,
   "id": "0adb0b1e",
   "metadata": {},
   "outputs": [],
   "source": [
    "J = A.jordan_form(transformation=True)\n",
    "show(J)"
   ]
  },
  {
   "cell_type": "code",
   "execution_count": null,
   "id": "7d1ae2d2",
   "metadata": {},
   "outputs": [],
   "source": []
  }
 ],
 "metadata": {
  "kernelspec": {
   "display_name": "SageMath 9.4",
   "language": "sage",
   "name": "sagemath"
  },
  "language_info": {
   "codemirror_mode": {
    "name": "ipython",
    "version": 3
   },
   "file_extension": ".py",
   "mimetype": "text/x-python",
   "name": "python",
   "nbconvert_exporter": "python",
   "pygments_lexer": "ipython3",
   "version": "3.9.7"
  }
 },
 "nbformat": 4,
 "nbformat_minor": 5
}
