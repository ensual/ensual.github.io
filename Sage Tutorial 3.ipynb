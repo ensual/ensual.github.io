{
 "cells": [
  {
   "cell_type": "markdown",
   "id": "a8c29aba",
   "metadata": {},
   "source": [
    "# 2D Graphics"
   ]
  },
  {
   "cell_type": "code",
   "execution_count": null,
   "id": "d7bf1d85",
   "metadata": {},
   "outputs": [],
   "source": [
    "plot(x * sin(1/x), x, -2, 2, plot_points=500)"
   ]
  },
  {
   "cell_type": "code",
   "execution_count": null,
   "id": "9bad18ce",
   "metadata": {},
   "outputs": [],
   "source": [
    "def p(x, n):\n",
    "    return(taylor(sin(x), x, 0, n))\n",
    "xmax = 15 \n",
    "n = 15\n",
    "g = plot(sin(x), x, -xmax, xmax)\n",
    "for d in range(n):\n",
    "    g += plot(p(x, 2 * (n-d) - 1), x, -xmax, xmax,\n",
    "              color=(1.7*d/(2*n), 1.5*d/(2*n), 1-3*d/(4*n)))\n",
    "g.show(ymin=-2, ymax=2)"
   ]
  },
  {
   "cell_type": "code",
   "execution_count": null,
   "id": "d5808092",
   "metadata": {},
   "outputs": [],
   "source": [
    "g.save('sine.png', ymin=-2, ymax=2)"
   ]
  },
  {
   "cell_type": "code",
   "execution_count": null,
   "id": "f72ae030",
   "metadata": {},
   "outputs": [],
   "source": [
    "f2(x) = 1\n",
    "f1(x) = -1\n",
    "f = piecewise( [ [(-pi,0),f1], [(0,pi),f2] ] )\n",
    "S = f.fourier_series_partial_sum(20,pi)\n",
    "g = plot(S, x, -8, 8, color='blue')\n",
    "saw(x) = x - 2 * pi * floor((x + pi) / (2 * pi))\n",
    "g += plot(saw(x) / abs(saw(x)), x, -8, 8, color='red')\n",
    "g"
   ]
  },
  {
   "cell_type": "markdown",
   "id": "77f031b7",
   "metadata": {},
   "source": [
    "## Parametric Curve"
   ]
  },
  {
   "cell_type": "code",
   "execution_count": null,
   "id": "381294d4",
   "metadata": {},
   "outputs": [],
   "source": [
    "t = var('t')\n",
    "x = cos(t) + cos(7*t)/2 + sin(17*t)/3\n",
    "y = sin(t) + sin(7*t)/2 + cos(17*t)/3\n",
    "g = parametric_plot((x, y), (t, 0, 2*pi))\n",
    "g.show(aspect_ratio=1)"
   ]
  },
  {
   "cell_type": "markdown",
   "id": "8bbd6ce5",
   "metadata": {},
   "source": [
    "## Curve in Polar Coordinates"
   ]
  },
  {
   "cell_type": "code",
   "execution_count": null,
   "id": "15b8387c",
   "metadata": {},
   "outputs": [],
   "source": [
    "t = var('t')\n",
    "n = 20/19\n",
    "g1 = polar_plot(1+2*cos(n*t),(t,0,n*36*pi),plot_points=5000)\n",
    "g2 = polar_plot(1+1/3*cos(n*t),(t,0,n*36*pi),plot_points=5000)\n",
    "g1.show(aspect_ratio=1)\n",
    "g2.show(aspect_ratio=1)"
   ]
  },
  {
   "cell_type": "markdown",
   "id": "352146dc",
   "metadata": {},
   "source": [
    "## Curve Defined by an Implicit Equation"
   ]
  },
  {
   "cell_type": "markdown",
   "id": "44467385",
   "metadata": {},
   "source": [
    "Let us draw the curve given by the implicit equation\n",
    "$$\\mathcal{C} = \\left\\{ z \\in \\mathbb{C} : |\\cos(x^4)| = 1\\right\\}.$$"
   ]
  },
  {
   "cell_type": "code",
   "execution_count": null,
   "id": "3dd5d0f3",
   "metadata": {},
   "outputs": [],
   "source": [
    "z = var('z')\n",
    "g1 = complex_plot(abs(cos(z^4))-1, (-3,3), (-3,3), plot_points = 400)\n",
    "g1.show(aspect_ratio=1)"
   ]
  },
  {
   "cell_type": "code",
   "execution_count": null,
   "id": "c8bc487b",
   "metadata": {
    "scrolled": false
   },
   "outputs": [],
   "source": [
    "f = lambda x, y: (abs(cos((x + I * y) ** 4)) - 1)\n",
    "g2 = implicit_plot(f, (-3, 3), (-3, 3))\n",
    "g2.show(aspect_ratio=1)"
   ]
  },
  {
   "cell_type": "markdown",
   "id": "03987b67",
   "metadata": {},
   "source": [
    "## Data Plot"
   ]
  },
  {
   "cell_type": "code",
   "execution_count": null,
   "id": "cdf68739",
   "metadata": {},
   "outputs": [],
   "source": [
    "bar_chart([randrange(15) for i in range(20)])"
   ]
  },
  {
   "cell_type": "code",
   "execution_count": null,
   "id": "9e57c1e9",
   "metadata": {},
   "outputs": [],
   "source": [
    "bar_chart([x^2 for x in range(1,20)], width=0.2)"
   ]
  },
  {
   "cell_type": "code",
   "execution_count": null,
   "id": "a0e5deee",
   "metadata": {},
   "outputs": [],
   "source": [
    "liste = [10 + floor(10*sin(i)) for i in range(100)]\n",
    "bar_chart(liste)"
   ]
  },
  {
   "cell_type": "code",
   "execution_count": null,
   "id": "90e82a6b",
   "metadata": {},
   "outputs": [],
   "source": [
    "finance.TimeSeries(liste).plot_histogram(bins=20)"
   ]
  },
  {
   "cell_type": "markdown",
   "id": "751312c3",
   "metadata": {},
   "source": [
    "**Example.** (Random walk) Starting from the origin O, a particle moves a distance $\\ell$ every $t$ seconds, in a random direction, independently of the preceding moves. \n",
    "Let us draw an example of particle trajectory.\n",
    "The red line goes from the initial to the final position."
   ]
  },
  {
   "cell_type": "code",
   "execution_count": null,
   "id": "8dc6652b",
   "metadata": {},
   "outputs": [],
   "source": [
    "n, l, x, y = 10000, 1, 0, 0\n",
    "p = [[0, 0]]\n",
    "for k in range(n):\n",
    "    theta = (2 * pi * random()).n(digits=5)\n",
    "    x, y = x + l * cos(theta), y + l * sin(theta)\n",
    "    p.append([x, y])\n",
    "g1 = line([p[n], [0, 0]], color='red', thickness=2)\n",
    "g1 += line(p, thickness=.4)\n",
    "g1.show(aspect_ratio=1)"
   ]
  },
  {
   "cell_type": "markdown",
   "id": "f606ecf6",
   "metadata": {},
   "source": [
    "**Example.** (Uniformly distributed sequences) Given a real sequence $(u_n)_{n\\in \\mathbb{N}^*}$, we construct the polygonal line whose successive vertices are the points in the complex plane\n",
    "$$z_N = \\sum_{n\\leq N} e^{2i \\pi u_n}.$$"
   ]
  },
  {
   "cell_type": "code",
   "execution_count": null,
   "id": "48fa3369",
   "metadata": {},
   "outputs": [],
   "source": [
    "def UDS(u, length):\n",
    "    n = var('n')\n",
    "    z = lambda n: exp(2 * I * pi * u(n)).n()\n",
    "    vertices = [CC(0, 0)]\n",
    "    for n in range(1, length):\n",
    "        vertices.append(vertices[n - 1] + CC(z(n)))\n",
    "    line(vertices).show(aspect_ratio=1)"
   ]
  },
  {
   "cell_type": "markdown",
   "id": "83da3b6e",
   "metadata": {},
   "source": [
    "- $u_n = n\\sqrt{2}$ and $N=200$"
   ]
  },
  {
   "cell_type": "code",
   "execution_count": null,
   "id": "66bb9616",
   "metadata": {},
   "outputs": [],
   "source": [
    "UDS(lambda n: n * sqrt(2), 200)"
   ]
  },
  {
   "cell_type": "markdown",
   "id": "6e210050",
   "metadata": {},
   "source": [
    "- $u_n = n \\ln(n) \\sqrt{2}$ and $N=10000$"
   ]
  },
  {
   "cell_type": "code",
   "execution_count": null,
   "id": "ff654b8e",
   "metadata": {},
   "outputs": [],
   "source": [
    "UDS(lambda n: n * ln(n) * sqrt(2), 10000)"
   ]
  },
  {
   "cell_type": "markdown",
   "id": "d244fe34",
   "metadata": {},
   "source": [
    "- $u_n = \\lfloor n \\ln(n) \\rfloor \\sqrt{2}$ and $N=10000$"
   ]
  },
  {
   "cell_type": "code",
   "execution_count": null,
   "id": "f73dd327",
   "metadata": {},
   "outputs": [],
   "source": [
    "UDS(lambda n: floor(n * ln(n)) * sqrt(2), 10000)"
   ]
  },
  {
   "cell_type": "markdown",
   "id": "bfda81f0",
   "metadata": {},
   "source": [
    "- $u_n = p_n \\sqrt{2}$ and $N=10000$ (here $p_n$ is the $n$-th prime)."
   ]
  },
  {
   "cell_type": "code",
   "execution_count": null,
   "id": "7f71e7c1",
   "metadata": {},
   "outputs": [],
   "source": [
    "UDS(lambda n: nth_prime(n) * sqrt(2), 10000)"
   ]
  },
  {
   "cell_type": "markdown",
   "id": "33b3326b",
   "metadata": {},
   "source": [
    "## Displaying Solutions of Differential Equations"
   ]
  },
  {
   "cell_type": "markdown",
   "id": "db6d19da",
   "metadata": {},
   "source": [
    "**Example.** (First-order linear differential equation) Let us draw the integral curves of the differential equation \n",
    "$$xy' - 2y = x^3.$$"
   ]
  },
  {
   "cell_type": "code",
   "execution_count": null,
   "id": "a3bf7601",
   "metadata": {},
   "outputs": [],
   "source": [
    "# y' = (x^3 + 2y) / x\n",
    "y = var('y')\n",
    "vf = plot_vector_field((x, 2*y+x^3), (x,-2,2), (y,-1,1))\n",
    "vf.show(ymin=-1, ymax=1)"
   ]
  },
  {
   "cell_type": "code",
   "execution_count": null,
   "id": "d2cf1562",
   "metadata": {},
   "outputs": [],
   "source": [
    "x = var('x')\n",
    "y = function('y')\n",
    "DE = x*diff(y(x), x) == 2*y(x) + x^3\n",
    "desolve(DE, [y(x),x])"
   ]
  },
  {
   "cell_type": "code",
   "execution_count": null,
   "id": "bd290c82",
   "metadata": {},
   "outputs": [],
   "source": [
    "# Symbolic solution.\n",
    "x = var('x')\n",
    "y = function('y')\n",
    "sol = []\n",
    "for i in [-2, -1.8..2]:\n",
    "    sol.append(desolve(DE, [y(x), x], ics=[1, i]))\n",
    "    sol.append(desolve(DE, [y(x), x], ics=[-1, i]))\n",
    "g = plot(sol, x, -2, 2, color ='blue')\n",
    "(g+vf).show(ymin=-1, ymax=1)"
   ]
  },
  {
   "cell_type": "code",
   "execution_count": null,
   "id": "6f023516",
   "metadata": {
    "scrolled": false
   },
   "outputs": [],
   "source": [
    "# Numerical solution.\n",
    "x = var('x')\n",
    "y = function('y')\n",
    "DE = x*diff(y(x), x) == 2*y(x) + x^3\n",
    "g = Graphics() # creates an empty graph\n",
    "for i in [-2, -1.8..2]:\n",
    "    g += line(desolve_rk4(DE, y(x), ics=[ 1, i], step=0.05, end_points=[0,  2]))\n",
    "    g += line(desolve_rk4(DE, y(x), ics=[-1, i], step=0.05, end_points=[-2, 0]))\n",
    "(g+vf).show(ymin=-1, ymax=1)"
   ]
  },
  {
   "cell_type": "markdown",
   "id": "5ee896da",
   "metadata": {},
   "source": [
    "**Example.** (First-order non-linear differential equation) Let us draw the\n",
    "integral curves of the equation $$y'(t) + \\cos(y(t)\\cdot t) = 0.$$"
   ]
  },
  {
   "cell_type": "code",
   "execution_count": null,
   "id": "db61786b",
   "metadata": {},
   "outputs": [],
   "source": [
    "y = var('y')\n",
    "vf = plot_vector_field((1, -cos(x*y)), (x,-5,5), (y,-2,11))\n",
    "vf.show()  "
   ]
  },
  {
   "cell_type": "code",
   "execution_count": null,
   "id": "63c73c99",
   "metadata": {},
   "outputs": [],
   "source": [
    "import scipy\n",
    "from scipy import integrate\n",
    "f = lambda y, t: - cos(y * t)\n",
    "t = [0, 0.1 .. 5]\n",
    "p = Graphics()\n",
    "for k in [0, 0.15 .. 10]:\n",
    "    y = integrate.odeint(f, k, t)\n",
    "    p += line(zip(t, y))\n",
    "t = [0, -0.1 .. -5]\n",
    "q = Graphics()\n",
    "for k in [0, 0.15 .. 10]:\n",
    "    y = integrate.odeint(f, k, t)\n",
    "    q += line(zip(t, y))\n",
    "g = p + q + vf\n",
    "g.show()"
   ]
  },
  {
   "cell_type": "markdown",
   "id": "b239f47f",
   "metadata": {},
   "source": [
    "**Example.** (Lotka-Volterra predator-prey model) We wish to represent graphically\n",
    "the variation of a set of prey and predators evolving according to a system\n",
    "of Lotka-Volterra equations:\n",
    "$$\\begin{cases}\n",
    "\\dfrac{du}{dt} &= au - buv\\\\\n",
    "\\dfrac{dv}{dt} &= -cv + dbuv\\\\\n",
    "\\end{cases}$$\n",
    "where $u$ is the number of preys (for example rabbits), $v$ is the number of predators\n",
    "(for example foxes). In addition, the parameters $a$, $b$, $c$, $d$ describe the evolution\n",
    "of the populations: $a$ is the natural growth of rabbits without foxes to eat them,\n",
    "$b$ is the decrease of rabbits when foxes kill them, $c$ is the decrease of foxes without\n",
    "any rabbit to eat, and finally $d$ indicates how many rabbits are needed for a new\n",
    "fox to appear."
   ]
  },
  {
   "cell_type": "code",
   "execution_count": null,
   "id": "9db8fe6f",
   "metadata": {},
   "outputs": [],
   "source": [
    "import scipy\n",
    "from scipy import integrate\n",
    "a, b, c, d = 1., 0.1, 1.5, 0.75\n",
    "def dX_dt(X, t=0):                     # returns the population variation\n",
    "    return [a*X[0] - b*X[0]*X[1], -c*X[1] + d*b*X[0]*X[1]]\n",
    "t = srange(0, 15, .01)                 # time scale\n",
    "X0 = [10, 5]                           # initial conditions: 10 rabbits and 5 foxes\n",
    "X = integrate.odeint(dX_dt, X0, t)     # numerical solution\n",
    "rabbits, foxes = X.T                   # shortcut for X.transpose()\n",
    "p = line(zip(t, rabbits), color='red') # number of rabbits graph\n",
    "p += text(\"Rabbits\",(12,37), fontsize=10, color='red')\n",
    "p += line(zip(t, foxes), color='blue') # idem for foxes\n",
    "p += text(\"Foxes\",(12,7), fontsize=10, color='blue')\n",
    "p.axes_labels([\"time\", \"population\"])\n",
    "p.show(gridlines=True)"
   ]
  },
  {
   "cell_type": "code",
   "execution_count": null,
   "id": "0d2dae4d",
   "metadata": {},
   "outputs": [],
   "source": [
    "n = 11\n",
    "L = srange(6, 18, 12/n)\n",
    "R = srange(3, 9, 6/n)\n",
    "CI = list(zip(L, R))                             # list of initial conditions\n",
    "def g(x,y):\n",
    "    v = vector(dX_dt([x, y]))                    # for a nicer graph,\n",
    "    return v/v.norm()                            # we normalise the vector field\n",
    "x, y = var('x, y')\n",
    "q = plot_vector_field(g(x, y), (x, 0, 60), (y, 0, 36))\n",
    "for j in range(n):\n",
    "    X = integrate.odeint(dX_dt, CI[j], t)        # resolution\n",
    "    q += line(X, color=hue(.8-float(j)/(1.8*n))) # graph plot\n",
    "q.axes_labels([\"rabbits\",\"foxes\"])\n",
    "q.show()"
   ]
  },
  {
   "cell_type": "markdown",
   "id": "35f4a787",
   "metadata": {},
   "source": [
    "## Evolute of a Curve"
   ]
  },
  {
   "cell_type": "markdown",
   "id": "af374250",
   "metadata": {},
   "source": [
    "**Example.** (Evolute of the parabola) Let us find the equation of the evolute of\n",
    "the parabola $P$ of equation $y = x^2/4$, and show on the same graph the parabola $P$,\n",
    "some normals to $P$ and its evolute."
   ]
  },
  {
   "cell_type": "code",
   "execution_count": null,
   "id": "d973e361",
   "metadata": {},
   "outputs": [],
   "source": [
    "x, y, t = var('x, y, t')\n",
    "alpha(t) = 1\n",
    "beta(t)  = t / 2\n",
    "gamma(t) = t + t^3 / 8\n",
    "env = solve([alpha(t) * x + beta(t) * y == gamma(t),\n",
    "             diff(alpha(t), t) * x + diff(beta(t), t) * y == diff(gamma(t), t),\n",
    "            ], [x,y])\n",
    "show(env)"
   ]
  },
  {
   "cell_type": "code",
   "execution_count": null,
   "id": "d2b359f5",
   "metadata": {},
   "outputs": [],
   "source": [
    "f(x) = x^2 / 4\n",
    "p = plot(f, -8, 8, rgbcolor=(0.2,0.2,0.4))                 # the parabola\n",
    "for u in [0, 0.1 .. 8]:                                # normals to the parabola\n",
    "    p += line([[u, f(u)], [-8*u, f(u) + 18]], thickness=.3)\n",
    "    p += line([[-u, f(u)], [8*u, f(u) + 18]], thickness=.3)\n",
    "p += parametric_plot((env[0][0].rhs(),env[0][1].rhs()), \\\n",
    "                     (t, -8, 8), color='red')               # draws the evolute\n",
    "p.show(xmin=-8, xmax=8, ymin=-1, ymax=12, aspect_ratio=1)"
   ]
  },
  {
   "cell_type": "code",
   "execution_count": null,
   "id": "19d430a4",
   "metadata": {},
   "outputs": [],
   "source": [
    "t = var('t')\n",
    "p = 2\n",
    "\n",
    "x(t)   = t\n",
    "y(t)   = t^2 / (2 * p)\n",
    "f(t)   = [x(t), y(t)]\n",
    "df(t)  = [x(t).diff(t), y(t).diff(t)]\n",
    "d2f(t) = [x(t).diff(t, 2), y(t).diff(t, 2)]\n",
    "\n",
    "T(t) = [df(t)[0] / df(t).norm(), df[1](t) / df(t).norm()]\n",
    "N(t) = [-df(t)[1] / df(t).norm(), df[0](t) / df(t).norm()]\n",
    "R(t) = (df(t).norm())^3 / (df(t)[0]*d2f(t)[1]-df(t)[1]*d2f(t)[0])\n",
    "\n",
    "Omega(t) = [f(t)[0] + R(t)*N(t)[0], f(t)[1] + R(t)*N(t)[1]]\n",
    "\n",
    "g = parametric_plot(f(t), (t,-8,8), color = 'green',thickness=2)\n",
    "\n",
    "for u in srange(.4, 4, .2):\n",
    "    g += point(f(t=u), color='red', size = 40)\n",
    "    g += point(Omega(t=u), color='red', size = 10)\n",
    "    g += line([f(t=u), Omega(t=u)], color = 'brown', alpha = .5)\n",
    "    g += circle(Omega(t=u), R(t=u), color = 'blue')\n",
    "\n",
    "g.show(aspect_ratio=1, xmin=-12, xmax=7, ymin=-3, ymax=12)"
   ]
  },
  {
   "cell_type": "markdown",
   "id": "19edeb25",
   "metadata": {},
   "source": [
    "# 3D Curves"
   ]
  },
  {
   "cell_type": "code",
   "execution_count": null,
   "id": "9b77958d",
   "metadata": {
    "scrolled": false
   },
   "outputs": [],
   "source": [
    "u, v = var('u, v')\n",
    "h = lambda u, v: u^2 + 2*v^2\n",
    "plot3d(h, (u,-1,1), (v,-1,1), aspect_ratio=[1,1,1])"
   ]
  },
  {
   "cell_type": "markdown",
   "id": "0da227fa",
   "metadata": {},
   "source": [
    "**Example.** (A discontinuous function whose directional derivatives exist everywhere!)\n",
    "Study the existence in $(0, 0)$ of the directional derivatives and the\n",
    "continuity of the function $f$ from $\\mathbb{R}^2$ to $\\mathbb{R}$ defined by:\n",
    "$$f(x, y) = \\begin{cases}\n",
    "\\frac{x^2y}{x^4+y^2} & \\text{if $(x,y) \\neq (0,0)$ },\\\\\n",
    "0 & \\text{if $(x,y) = (0,0)$ }.\n",
    "\\end{cases}$$"
   ]
  },
  {
   "cell_type": "code",
   "execution_count": null,
   "id": "4d7f7df3",
   "metadata": {},
   "outputs": [],
   "source": [
    "f(x, y) = x^2 * y / (x^4 + y^2)\n",
    "t, theta = var('t, theta')\n",
    "limit(f( t*cos(theta), t*sin(theta) ) / t, t=0)"
   ]
  },
  {
   "cell_type": "code",
   "execution_count": null,
   "id": "e928c8d6",
   "metadata": {},
   "outputs": [],
   "source": [
    "solve(f(x, y) == 1/2, y)"
   ]
  },
  {
   "cell_type": "code",
   "execution_count": null,
   "id": "0531e23c",
   "metadata": {},
   "outputs": [],
   "source": [
    "a = var('a')\n",
    "h = f(x, a*x^2).simplify_rational()\n",
    "h"
   ]
  },
  {
   "cell_type": "code",
   "execution_count": null,
   "id": "94d5156f",
   "metadata": {},
   "outputs": [],
   "source": [
    "plot(h, a, -4, 4)"
   ]
  },
  {
   "cell_type": "code",
   "execution_count": null,
   "id": "1a1f56db",
   "metadata": {},
   "outputs": [],
   "source": [
    "p = plot3d(f(x,y),(x,-2,2),(y,-2,2),plot_points=[150,150])\n",
    "for i in [-1 .. 1]:\n",
    "    p += plot3d( i / 4, (x, -2, 2), (y, -2, 2), \\\n",
    "                color=hue( (i+2) / 10), opacity = .2)\n",
    "p"
   ]
  },
  {
   "cell_type": "markdown",
   "id": "6c8a42de",
   "metadata": {},
   "source": [
    "**Example.** (Cassini surface)\n",
    "$$(a^2 + x^2 + y^2)^2 = 4a^2x^2 + z^4$$"
   ]
  },
  {
   "cell_type": "code",
   "execution_count": null,
   "id": "98dcf56b",
   "metadata": {},
   "outputs": [],
   "source": [
    "x, y, z = var('x, y, z')\n",
    "a = 1\n",
    "h = lambda x, y, z:(a^2 + x^2 + y^2)^2 - 4*a^2*x^2-z^4\n",
    "implicit_plot3d(h, (x,-3,3), (y,-3,3), (z,-2,2), plot_points=100)"
   ]
  },
  {
   "cell_type": "markdown",
   "id": "fee28f54",
   "metadata": {},
   "source": [
    "**Example.** (A knot in space)"
   ]
  },
  {
   "cell_type": "code",
   "execution_count": null,
   "id": "f9dc19cb",
   "metadata": {
    "scrolled": false
   },
   "outputs": [],
   "source": [
    "line3d([ ( -10*cos(t)-2*cos(5*t)+15*sin(2*t), \\\n",
    "          -15*cos(2*t)+10*sin(t)-2*sin(5*t), \\\n",
    "          10*cos(3*t), \\\n",
    "         ) for t in [0, 0.1 ..  6.4] ], radius=.5)"
   ]
  },
  {
   "cell_type": "code",
   "execution_count": null,
   "id": "a81ea1e2",
   "metadata": {},
   "outputs": [],
   "source": []
  }
 ],
 "metadata": {
  "kernelspec": {
   "display_name": "SageMath 9.4",
   "language": "sage",
   "name": "sagemath"
  },
  "language_info": {
   "codemirror_mode": {
    "name": "ipython",
    "version": 3
   },
   "file_extension": ".py",
   "mimetype": "text/x-python",
   "name": "python",
   "nbconvert_exporter": "python",
   "pygments_lexer": "ipython3",
   "version": "3.9.7"
  }
 },
 "nbformat": 4,
 "nbformat_minor": 5
}
