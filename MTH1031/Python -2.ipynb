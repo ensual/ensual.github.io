{
 "cells": [
  {
   "cell_type": "markdown",
   "id": "e5c2180b",
   "metadata": {},
   "source": [
    "# Python -2"
   ]
  },
  {
   "cell_type": "markdown",
   "id": "d3df12ee",
   "metadata": {},
   "source": [
    "## 시작하기 전에\n",
    "\n",
    "- 이 과목에서는 항상 Google Chrome 브라우저를 사용한다.\n",
    "    * https://ko.wikipedia.org/wiki/구글_크롬\n",
    "\n",
    "- 화면 캡처 단축키\n",
    "    * Windows10. Window + shift + s (or PrtSc) > 그림판 > 붙여넣기 > 저장\n",
    "    * macOS. Commmand + Shift + 3 (or Command + Shift + 5)\n",
    "    \n",
    "- macOS 단축키\n",
    "    * 한/영 전환. Caps Lock (or Control + Space)\n",
    "    * Spotlight. Command + Space"
   ]
  },
  {
   "cell_type": "markdown",
   "id": "c6b5e683",
   "metadata": {},
   "source": [
    "## Python 실습 준비\n",
    "\n",
    "1. 실습서버 계정 만들기\n",
    "    - http://cocalc.com 접속\n",
    "    - 오른쪽 상단 메뉴에서 Sign Up 클릭\n",
    "    - 사용 동의 체크 박스를 선택 후 본인이 가지고 있는 계정의 OAuth 를 통해서 계정을 만듭니다.\n",
    "        * 구글 계정을 가지고 있다면, 구글 계정을 사용하길 추천합니다.\n",
    "        * 이메일 주소와 암호를 넣고 만들어도 상관이 없습니다.\n",
    "        \n",
    "\n",
    "2. 실습서버 계정 로그인 하기\n",
    "    - http://cocalc.com 접속\n",
    "    - 오른쪽 상단 메뉴에서 Sign in 클릭\n",
    "    - 위에서 생성한 CoCalc 계정을 사용하여 접속하기\n",
    "    \n",
    "    \n",
    "3. 실습서버에서 Project 준비하기\n",
    "    - 왼쪽 상단 메뉴에서 Projects 를 클릭\n",
    "    - Create New Project 를 이용하여 새로운 프로젝트 생성하기\n",
    "        * 프로젝트 이름은 \"계산수학\"과 같이 임의로 지정\n",
    "        * 혹은 기존의 생성된 Project를 선택하여 열기\n",
    "    - Start Project 를 클릭하여 프로젝트를 시작\n",
    "        * 프로젝트 시작 후 30분간 반응이 없으면 프로젝트는 자동으로 멈춤\n",
    "        * 프로젝트에서 상단의 \"Settings\" 클릭 후, \"Project control\" 패널에서 프로젝트 상황을 확인 가능\n",
    "        * \"Project control\" 패널에서 시작/멈춤/재시작 가능\n",
    "\n",
    "\n",
    "4. Jupyter Classic Server 실행하기\n",
    "    - 상단의 Files 옆의 New 를 클릭\n",
    "    - 하단의 Jupyter Classice Server... 를 클릭\n",
    "    - Jupyter Classice Notebook Server 를 클릭\n",
    "    - 새 창이 열리지만, 혹시 pop up 블럭이 되어 있으면 해제를 하고 새 창을 확인\n",
    "\n",
    "\n",
    "5. Python 실행하기\n",
    "    - 오른쪽 상단의 New > Python 3 (system-wide) 를 선택하여 Python Notebook 생성\n",
    "    - 상단의 Untitled 를 선택하여 file 이름을 \"Python Demo\"와 같이 적절히 바꾼다.\n",
    "    - 아래의 셀에 2+3과 같은 간단한 계산을 넣고, 상단의 Run 을 선택하여, 맞는 답이 나오는지 확인\n",
    "    "
   ]
  },
  {
   "cell_type": "markdown",
   "id": "893f70bd",
   "metadata": {},
   "source": [
    "## 간단한 Python 실습"
   ]
  },
  {
   "cell_type": "markdown",
   "id": "7d750693",
   "metadata": {},
   "source": [
    "### 사칙연산"
   ]
  },
  {
   "cell_type": "markdown",
   "id": "f6f8473f",
   "metadata": {},
   "source": [
    "다음과 같이 간단한 수식을 입력해 보고, 결과값으로 5가 나왔는지 확인하자."
   ]
  },
  {
   "cell_type": "code",
   "execution_count": null,
   "id": "3ad14639",
   "metadata": {},
   "outputs": [],
   "source": [
    "2+3"
   ]
  },
  {
   "cell_type": "markdown",
   "id": "d7ab8b64",
   "metadata": {},
   "source": [
    "#### Q1. (3x7)-(6÷3) 의 값을 구하는 코드를 완성하여라. (곱하기는 *, 나누기는 /)"
   ]
  },
  {
   "cell_type": "code",
   "execution_count": null,
   "id": "cb3d5d88",
   "metadata": {},
   "outputs": [],
   "source": []
  },
  {
   "cell_type": "markdown",
   "id": "84e6ffa1",
   "metadata": {},
   "source": [
    "### 변수에 숫자 대입하고 계산하기"
   ]
  },
  {
   "cell_type": "code",
   "execution_count": null,
   "id": "aba1e68c",
   "metadata": {},
   "outputs": [],
   "source": [
    "a = 7\n",
    "b = 4\n",
    "a / b"
   ]
  },
  {
   "cell_type": "markdown",
   "id": "3b83a226",
   "metadata": {},
   "source": [
    "#### Q2. n에 24을 대입하고, m에 7에 대입한 후 n을 m으로 나누었을 때의 몫(//)과 나머지(%)를 구하여라."
   ]
  },
  {
   "cell_type": "code",
   "execution_count": null,
   "id": "87501ae1",
   "metadata": {},
   "outputs": [],
   "source": []
  },
  {
   "cell_type": "markdown",
   "id": "f0e254a5",
   "metadata": {},
   "source": [
    "### 변수에 문자 대입하고 출력하기"
   ]
  },
  {
   "cell_type": "code",
   "execution_count": null,
   "id": "eb36d1c3",
   "metadata": {},
   "outputs": [],
   "source": [
    "a = \"Python\"\n",
    "a"
   ]
  },
  {
   "cell_type": "code",
   "execution_count": null,
   "id": "125912eb",
   "metadata": {},
   "outputs": [],
   "source": [
    "a = \"Python\"\n",
    "print(a)"
   ]
  },
  {
   "cell_type": "markdown",
   "id": "bffb404d",
   "metadata": {},
   "source": [
    "#### Q3. 변수 b에 문자열 본인의 이름을 대입하고 출력하기"
   ]
  },
  {
   "cell_type": "code",
   "execution_count": null,
   "id": "ea796345",
   "metadata": {},
   "outputs": [],
   "source": []
  },
  {
   "cell_type": "markdown",
   "id": "1a2ae01e",
   "metadata": {},
   "source": [
    "### 조건문 if"
   ]
  },
  {
   "cell_type": "code",
   "execution_count": null,
   "id": "6841eda7",
   "metadata": {},
   "outputs": [],
   "source": [
    "a = 3\n",
    "if a > 1:\n",
    "    print(\"a는 1보다 크다.\") # 4칸 들여쓰기\n",
    "else:\n",
    "    print(\"a는 1보다 작다.\") # 4칸 들여쓰기"
   ]
  },
  {
   "cell_type": "markdown",
   "id": "f8f06cf2",
   "metadata": {},
   "source": [
    "#### Q4. a 값이 양수이면 1을 증가시키고, a 값이 양수가 아니면 1을 감소시키는 코드를 pass 부분을 수정하여 완성하여라."
   ]
  },
  {
   "cell_type": "code",
   "execution_count": null,
   "id": "f3fc810a",
   "metadata": {},
   "outputs": [],
   "source": [
    "a = 3\n",
    "if a > 0:\n",
    "    pass\n",
    "else:\n",
    "    pass"
   ]
  },
  {
   "cell_type": "markdown",
   "id": "dbb714c9",
   "metadata": {},
   "source": [
    "### 반복문 for"
   ]
  },
  {
   "cell_type": "code",
   "execution_count": null,
   "id": "895f1ff7",
   "metadata": {},
   "outputs": [],
   "source": [
    "for a in [1, 7, 3]:\n",
    "    print(a)"
   ]
  },
  {
   "cell_type": "code",
   "execution_count": null,
   "id": "8e59613e",
   "metadata": {},
   "outputs": [],
   "source": [
    "for a in range(2, 9, 3):\n",
    "    print(a)"
   ]
  },
  {
   "cell_type": "markdown",
   "id": "b1c40118",
   "metadata": {},
   "source": [
    "#### Q5. for와 range 를 사용하여 1부터 10사이의 3의 배수를 모두 출력하여라."
   ]
  },
  {
   "cell_type": "code",
   "execution_count": null,
   "id": "3201195f",
   "metadata": {},
   "outputs": [],
   "source": []
  },
  {
   "cell_type": "markdown",
   "id": "f320ddb1",
   "metadata": {},
   "source": [
    "### 반복문 While"
   ]
  },
  {
   "cell_type": "code",
   "execution_count": null,
   "id": "7d0500bc",
   "metadata": {},
   "outputs": [],
   "source": [
    "i = 2\n",
    "while i < 10:\n",
    "    i += 3      # i = i+1 와 같은 의미\n",
    "    print(i)"
   ]
  },
  {
   "cell_type": "markdown",
   "id": "234a1521",
   "metadata": {},
   "source": [
    "#### Q6. while 을 사용하여 1부터 10사의 3의 배수를 모두 출력하여라."
   ]
  },
  {
   "cell_type": "code",
   "execution_count": null,
   "id": "5ff12b84",
   "metadata": {},
   "outputs": [],
   "source": []
  },
  {
   "cell_type": "markdown",
   "id": "7d36870f",
   "metadata": {},
   "source": [
    "### 함수"
   ]
  },
  {
   "cell_type": "code",
   "execution_count": null,
   "id": "2f17279b",
   "metadata": {},
   "outputs": [],
   "source": [
    "def f(a, b):\n",
    "    return 2*a+b\n",
    "f(3,4)"
   ]
  },
  {
   "cell_type": "markdown",
   "id": "f751adf7",
   "metadata": {},
   "source": [
    "#### Q7. 입력을 받아서 두 수의 합과 곱의 차이를 출력하는 ***sum_and_mul*** 함수를 pass 부분을 수정하여 완성하여라."
   ]
  },
  {
   "cell_type": "code",
   "execution_count": null,
   "id": "44534368",
   "metadata": {},
   "outputs": [],
   "source": [
    "def sum_and_mul(x, y):\n",
    "    s = x+y\n",
    "    m = x*y\n",
    "    ret = s-m\n",
    "    if ret<0:\n",
    "        pass\n",
    "    return ret\n",
    "\n",
    "sum_and_mul(10,5)"
   ]
  },
  {
   "cell_type": "code",
   "execution_count": null,
   "id": "07d442b4",
   "metadata": {},
   "outputs": [],
   "source": []
  }
 ],
 "metadata": {
  "kernelspec": {
   "display_name": "Python 3",
   "language": "python",
   "name": "python3"
  },
  "language_info": {
   "codemirror_mode": {
    "name": "ipython",
    "version": 3
   },
   "file_extension": ".py",
   "mimetype": "text/x-python",
   "name": "python",
   "nbconvert_exporter": "python",
   "pygments_lexer": "ipython3",
   "version": "3.9.2"
  }
 },
 "nbformat": 4,
 "nbformat_minor": 5
}
