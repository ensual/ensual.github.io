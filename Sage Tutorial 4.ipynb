{
 "cells": [
  {
   "cell_type": "markdown",
   "id": "e38af16f",
   "metadata": {},
   "source": [
    "# Programming and Data Structures"
   ]
  },
  {
   "cell_type": "markdown",
   "id": "856275f2",
   "metadata": {},
   "source": [
    "| Python language keywords          |                                            |\n",
    "| --------------------------------- | ------------------------------------------ |\n",
    "| while, for...in, if...elif...else | loops and tests                            |\n",
    "| continue, break                   | early exit from a code block               |\n",
    "| try...except...finally, raise     | deal with and raise exceptions             |\n",
    "| assert                            | debugging condition                        |\n",
    "| pass                              | no-effect statement                        |\n",
    "| def, lambda                       | definition of a function                   |\n",
    "| return, yield                     | return of a value                          |\n",
    "| global, del                       | scope and deleting variables and functions |\n",
    "| and, not, or                      | boolean operations                         |\n",
    "| print                             | text output                                |\n",
    "| class, with                       | object-oriented and context programming    |\n",
    "| from...import...as                | library access                             |\n",
    "| exec...in                         | dynamic code evaluation                    |"
   ]
  },
  {
   "cell_type": "code",
   "execution_count": null,
   "id": "53283da4",
   "metadata": {},
   "outputs": [],
   "source": [
    "2*3; 3*4; 4*5     # 1 results"
   ]
  },
  {
   "cell_type": "code",
   "execution_count": null,
   "id": "f26e29c9",
   "metadata": {},
   "outputs": [],
   "source": [
    "2*3, 3*4, 4*5"
   ]
  },
  {
   "cell_type": "code",
   "execution_count": null,
   "id": "9e26cfbd",
   "metadata": {},
   "outputs": [],
   "source": [
    "123 + \\\n",
    "345"
   ]
  },
  {
   "cell_type": "code",
   "execution_count": null,
   "id": "aba5a4ae",
   "metadata": {},
   "outputs": [],
   "source": [
    "import keyword\n",
    "print(keyword.kwlist)"
   ]
  },
  {
   "cell_type": "code",
   "execution_count": null,
   "id": "7287d80a",
   "metadata": {},
   "outputs": [],
   "source": [
    "y = 3; y = 3 * y + 1; y = 3 * y + 1; y"
   ]
  },
  {
   "cell_type": "code",
   "execution_count": null,
   "id": "616460c5",
   "metadata": {},
   "outputs": [],
   "source": [
    "a, b = 10, 20      # (a, b) = (10, 20) and [10, 20] are also possible\n",
    "a, b = b, a\n",
    "a, b"
   ]
  },
  {
   "cell_type": "code",
   "execution_count": null,
   "id": "ae3ba5b1",
   "metadata": {},
   "outputs": [],
   "source": [
    "temp = a; a = b; b = temp        # equivalent to: a, b = b, a\n",
    "a, b"
   ]
  },
  {
   "cell_type": "code",
   "execution_count": null,
   "id": "acf6b683",
   "metadata": {},
   "outputs": [],
   "source": [
    "x, y = var('x, y')\n",
    "a = x\n",
    "b = y\n",
    "a, b"
   ]
  },
  {
   "cell_type": "code",
   "execution_count": null,
   "id": "032d6687",
   "metadata": {},
   "outputs": [],
   "source": [
    "a = a + b \n",
    "b = a - b \n",
    "a = a - b\n",
    "a, b"
   ]
  },
  {
   "cell_type": "code",
   "execution_count": null,
   "id": "d3b236a0",
   "metadata": {},
   "outputs": [],
   "source": [
    "a = b = c = 0\n",
    "a, b, c"
   ]
  },
  {
   "cell_type": "code",
   "execution_count": null,
   "id": "8f3b1e13",
   "metadata": {},
   "outputs": [],
   "source": [
    "reset()"
   ]
  },
  {
   "cell_type": "code",
   "execution_count": null,
   "id": "5269fbf9",
   "metadata": {},
   "outputs": [],
   "source": [
    "x += 5  # x = x+5\n",
    "x"
   ]
  },
  {
   "cell_type": "code",
   "execution_count": null,
   "id": "edc9430a",
   "metadata": {},
   "outputs": [],
   "source": [
    "n = var(\"n\")\n",
    "n *= 2  # n = n*2\n",
    "n"
   ]
  },
  {
   "cell_type": "code",
   "execution_count": null,
   "id": "d1fdfd74",
   "metadata": {},
   "outputs": [],
   "source": [
    "2 + 2 == 2^2, 3 * 3 == 3^3    # comparison"
   ]
  },
  {
   "cell_type": "markdown",
   "id": "2aaca786",
   "metadata": {},
   "source": [
    "## Loops"
   ]
  },
  {
   "cell_type": "code",
   "execution_count": null,
   "id": "6c51dfd2",
   "metadata": {},
   "outputs": [],
   "source": [
    "# Enumeration Loops\n",
    "for k in [1..5]:\n",
    "    print(7*k) # block containing a single instruction"
   ]
  },
  {
   "cell_type": "code",
   "execution_count": null,
   "id": "7e0885dd",
   "metadata": {},
   "outputs": [],
   "source": [
    "S = 0\n",
    "for k in [1..3]:\n",
    "    S = S+k\n",
    "S = 2*S\n",
    "S               # (0 + 1 + 2 + 3) * 2 = 12"
   ]
  },
  {
   "cell_type": "code",
   "execution_count": null,
   "id": "70ec940f",
   "metadata": {},
   "outputs": [],
   "source": [
    "S = 0\n",
    "for k in [1..3]:\n",
    "    S = S+k\n",
    "    S = 2*S\n",
    "S               # ((((0 + 1) * 2) + 2) * 2 + 3) * 2 = 22"
   ]
  },
  {
   "cell_type": "markdown",
   "id": "c63d8f9f",
   "metadata": {},
   "source": [
    "$$ S = \\sum_{e^k \\leq 10^6} k^2 = \\sum_{k=0}^{13} k^2 = 819$$\n",
    "where\n",
    "$$ e^{13} \\approx 442413 \\leq 10^6 < e^{14} \\approx 1202604.$$"
   ]
  },
  {
   "cell_type": "code",
   "execution_count": null,
   "id": "4bb9c473",
   "metadata": {},
   "outputs": [],
   "source": [
    "# While Loops\n",
    "S = 0               # The sum S starts to 0\n",
    "k = 0       \n",
    "while e^k <= 10^6:  # e^13 <= 10^6 < e^14\n",
    "    S = S + k^2     # accumulates the squares k^2\n",
    "    k = k + 1\n",
    "S"
   ]
  },
  {
   "cell_type": "code",
   "execution_count": null,
   "id": "e0246fb0",
   "metadata": {},
   "outputs": [],
   "source": [
    "x = 10^4\n",
    "u = 1\n",
    "n = 0           # invariant: u = 2^n\n",
    "while u <= x: \n",
    "    n = n+1     # or n += 1\n",
    "    u = 2*u     # or u *= 2\n",
    "n"
   ]
  },
  {
   "cell_type": "code",
   "execution_count": null,
   "id": "efd56206",
   "metadata": {},
   "outputs": [],
   "source": [
    "for x in [1.0..100.0]:\n",
    "    if log(x+1)<=x/10:\n",
    "        break\n",
    "x"
   ]
  },
  {
   "cell_type": "code",
   "execution_count": null,
   "id": "1b324eb5",
   "metadata": {},
   "outputs": [],
   "source": [
    "x=1.0\n",
    "while log(x+1)>x/10 and x<100:\n",
    "    x = x+1\n",
    "x"
   ]
  },
  {
   "cell_type": "code",
   "execution_count": null,
   "id": "e045f535",
   "metadata": {},
   "outputs": [],
   "source": [
    "x=1.0\n",
    "while log(x+1)>x/10:\n",
    "    x = x+1\n",
    "x"
   ]
  },
  {
   "cell_type": "code",
   "execution_count": null,
   "id": "ea759e8c",
   "metadata": {},
   "outputs": [],
   "source": [
    "x=1.0\n",
    "while True:\n",
    "    if log(x+1)>x/10:\n",
    "        x = x+1\n",
    "        continue\n",
    "    break\n",
    "x"
   ]
  },
  {
   "cell_type": "markdown",
   "id": "392c25c0",
   "metadata": {},
   "source": [
    "## Application to Sequences and Series"
   ]
  },
  {
   "cell_type": "markdown",
   "id": "426a7b4a",
   "metadata": {},
   "source": [
    "$$u_0 = 1, \\quad u_{n+1} = \\frac{1}{1+u_n^2} \\quad \\forall n \\in \\mathbb{N}, \\quad u_{20} = ?$$"
   ]
  },
  {
   "cell_type": "code",
   "execution_count": null,
   "id": "4b71cafa",
   "metadata": {},
   "outputs": [],
   "source": [
    "U = 1.0                # or U = 1. or U = 1.000\n",
    "for n in [1..20]:\n",
    "    U = 1 / (1 + U^2)\n",
    "U"
   ]
  },
  {
   "cell_type": "markdown",
   "id": "9042e3fe",
   "metadata": {},
   "source": [
    "$$S_n = \\sum_{k=1}^n (2k)(2k+1) = 2\\cdot 3 + 4\\cdot 5 + \\cdots + (2n)(2n+1), \\quad S_{10} = ?$$"
   ]
  },
  {
   "cell_type": "code",
   "execution_count": null,
   "id": "cac99e30",
   "metadata": {},
   "outputs": [],
   "source": [
    "S = 0\n",
    "n = 10\n",
    "for k in [1..n]:\n",
    "    S = S + (2*k) * (2*k+1)\n",
    "S"
   ]
  },
  {
   "cell_type": "code",
   "execution_count": null,
   "id": "de7f0352",
   "metadata": {},
   "outputs": [],
   "source": [
    "n, k = var('n, k')\n",
    "res = sum(2*k*(2*k+1), k, 1, n)\n",
    "res, factor(res)       # result expanded, factorised"
   ]
  },
  {
   "cell_type": "code",
   "execution_count": null,
   "id": "b62b443f",
   "metadata": {},
   "outputs": [],
   "source": [
    "show(_)"
   ]
  },
  {
   "cell_type": "markdown",
   "id": "9996dce0",
   "metadata": {},
   "source": [
    "## Example: Approximation of Sequence Limits"
   ]
  },
  {
   "cell_type": "markdown",
   "id": "7a136283",
   "metadata": {},
   "source": [
    "$$u_0 = a, \\quad v_0 = b > a, \\quad u_{n+1} = \\frac{2u_n v_n}{u_n + v_n}, \\quad v_{n+1} = \\frac{u_n + v_n}{2}$$"
   ]
  },
  {
   "cell_type": "code",
   "execution_count": null,
   "id": "f5c06bce",
   "metadata": {},
   "outputs": [],
   "source": [
    "U = 2.0\n",
    "V = 50.0\n",
    "while V-U >= 1.0e-6:        # 1.0e-6 stands for 1.0*10^-6\n",
    "    temp = U\n",
    "    U = 2 * U * V / (U + V)\n",
    "    V = (temp + V) / 2\n",
    "U, V"
   ]
  },
  {
   "cell_type": "code",
   "execution_count": null,
   "id": "e81bc578",
   "metadata": {},
   "outputs": [],
   "source": [
    "U = 2.0\n",
    "V = 50.0\n",
    "while V-U >= 1.0e-6:        # 1.0e-6 stands for 1.0*10^-6\n",
    "    U, V = 2 * U * V / (U + V), (U + V) / 2\n",
    "U, V"
   ]
  },
  {
   "cell_type": "code",
   "execution_count": null,
   "id": "4e000984",
   "metadata": {},
   "outputs": [],
   "source": [
    "k = var('k')\n",
    "sum((-1)^k/k, k, 1, +oo)"
   ]
  },
  {
   "cell_type": "code",
   "execution_count": null,
   "id": "6d74a6bd",
   "metadata": {},
   "outputs": [],
   "source": [
    "sum((-1)^k/k^2, k, 1, +oo)"
   ]
  },
  {
   "cell_type": "code",
   "execution_count": null,
   "id": "2d5c63c2",
   "metadata": {},
   "outputs": [],
   "source": [
    "sum((-1)^k/k^3, k, 1, +oo)"
   ]
  },
  {
   "cell_type": "code",
   "execution_count": null,
   "id": "8c18a696",
   "metadata": {},
   "outputs": [],
   "source": [
    "-3/4 * zeta (N(3, digits = 1200))"
   ]
  },
  {
   "cell_type": "code",
   "execution_count": null,
   "id": "8639d053",
   "metadata": {},
   "outputs": [],
   "source": [
    "(-3/4 * zeta(3)).n(digits = 1200)"
   ]
  },
  {
   "cell_type": "markdown",
   "id": "434ac4e2",
   "metadata": {},
   "source": [
    "## Conditionals"
   ]
  },
  {
   "cell_type": "markdown",
   "id": "6da2f891",
   "metadata": {},
   "source": [
    "**Example.** (The Collatz conjecture)\n",
    "$$u_0 \\in \\mathbb{N} - \\left\\{0\\right\\}, \\quad u_{n+1} = \\begin{cases}u_n/2 & \\text{if $u_n$ is even}\\\\ 3u_n + 1& \\text{if $u_n$ is odd} \\end{cases}$$"
   ]
  },
  {
   "cell_type": "code",
   "execution_count": null,
   "id": "990da5b4",
   "metadata": {},
   "outputs": [],
   "source": [
    "u = 6\n",
    "n = 0\n",
    "while u != 1:       # the test u <> 1 is also possible\n",
    "    if u % 2 == 0:  # the operator % yields the remainder\n",
    "        u = u//2    # //: Euclidean division quotient\n",
    "    else:\n",
    "        u = 3*u+1\n",
    "    n = n+1\n",
    "    print(u, end=\", \")\n",
    "n"
   ]
  },
  {
   "cell_type": "markdown",
   "id": "88f25431",
   "metadata": {},
   "source": [
    "## Procedures and Functions"
   ]
  },
  {
   "cell_type": "code",
   "execution_count": null,
   "id": "83257c1e",
   "metadata": {},
   "outputs": [],
   "source": [
    "def fct2(x, y):\n",
    "    return x^2 + y^2\n",
    "a = var('a')\n",
    "fct2(a, 2*a)"
   ]
  },
  {
   "cell_type": "code",
   "execution_count": null,
   "id": "07411335",
   "metadata": {},
   "outputs": [],
   "source": [
    "def foo(u):\n",
    "    t = u^2\n",
    "    return t*(t+1)\n",
    "t = 1\n",
    "u = 2\n",
    "foo(3), t, u"
   ]
  },
  {
   "cell_type": "code",
   "execution_count": null,
   "id": "be3dd363",
   "metadata": {},
   "outputs": [],
   "source": [
    "a = b = 1\n",
    "def f():\n",
    "    global a      # a is global variable\n",
    "    a = b = 2\n",
    "f()\n",
    "a, b"
   ]
  },
  {
   "cell_type": "code",
   "execution_count": null,
   "id": "2680a928",
   "metadata": {},
   "outputs": [],
   "source": [
    "def AHmean(u, v):\n",
    "    u, v = min(u, v), max(u, v)\n",
    "    while v-u > 2.0e-8:\n",
    "        u, v = 2*u*v/(u+v), (u+v)/2\n",
    "    return (u+v)/2"
   ]
  },
  {
   "cell_type": "code",
   "execution_count": null,
   "id": "3c598ea4",
   "metadata": {},
   "outputs": [],
   "source": [
    "AHmean(1., 2.)"
   ]
  },
  {
   "cell_type": "code",
   "execution_count": null,
   "id": "1ce2aec6",
   "metadata": {},
   "outputs": [],
   "source": [
    "AHmean # corresponds to a function"
   ]
  },
  {
   "cell_type": "markdown",
   "id": "adadbb50",
   "metadata": {},
   "source": [
    "## Iterative and Recursive Methods"
   ]
  },
  {
   "cell_type": "code",
   "execution_count": null,
   "id": "e4e6ef4e",
   "metadata": {},
   "outputs": [],
   "source": [
    "# Iterative\n",
    "def fact1(n):\n",
    "    res = 1\n",
    "    for k in [1..n]: \n",
    "        res = res*k\n",
    "    return res"
   ]
  },
  {
   "cell_type": "code",
   "execution_count": null,
   "id": "7fb8e0e7",
   "metadata": {},
   "outputs": [],
   "source": [
    "# Recursive \n",
    "def fact2(n):\n",
    "    if n == 0:\n",
    "        return 1\n",
    "    else: \n",
    "        return n*fact2(n-1)"
   ]
  },
  {
   "cell_type": "code",
   "execution_count": null,
   "id": "0cb8d317",
   "metadata": {},
   "outputs": [],
   "source": [
    "%%time\n",
    "fact1(1000)"
   ]
  },
  {
   "cell_type": "code",
   "execution_count": null,
   "id": "2fc600d9",
   "metadata": {},
   "outputs": [],
   "source": [
    "%%time\n",
    "fact2(1000)"
   ]
  },
  {
   "cell_type": "code",
   "execution_count": null,
   "id": "46839447",
   "metadata": {},
   "outputs": [],
   "source": [
    "# Iterative\n",
    "def fib1(n):\n",
    "    if n == 0 or n == 1: \n",
    "        return n\n",
    "    else:\n",
    "        U = 0\n",
    "        V = 1         # the initial terms u0 and u1\n",
    "        for k in [2..n]: \n",
    "            U, V = V, U+V\n",
    "        return V"
   ]
  },
  {
   "cell_type": "code",
   "execution_count": null,
   "id": "4b460c78",
   "metadata": {},
   "outputs": [],
   "source": [
    "# Recursive\n",
    "def fib2(n):\n",
    "    if 0 <= n <= 1: \n",
    "        return n        # for n = 0 or n = 1\n",
    "    else: \n",
    "        return fib2(n-1) + fib2(n-2)"
   ]
  },
  {
   "cell_type": "code",
   "execution_count": null,
   "id": "b7758ced",
   "metadata": {},
   "outputs": [],
   "source": [
    "%%time\n",
    "fib1(30)"
   ]
  },
  {
   "cell_type": "code",
   "execution_count": null,
   "id": "17bd3f15",
   "metadata": {},
   "outputs": [],
   "source": [
    "%%time\n",
    "fib2(30)"
   ]
  },
  {
   "cell_type": "markdown",
   "id": "83354404",
   "metadata": {},
   "source": [
    "## Example: Fast Exponentiation"
   ]
  },
  {
   "cell_type": "code",
   "execution_count": null,
   "id": "909ca844",
   "metadata": {},
   "outputs": [],
   "source": [
    "a = 2\n",
    "n = 6\n",
    "res = 1          # 1 is the product neutral element\n",
    "for k in [1..n]: \n",
    "    res = res*a\n",
    "res              # the value of res is 2^6"
   ]
  },
  {
   "cell_type": "markdown",
   "id": "8d87e651",
   "metadata": {},
   "source": [
    "$$\n",
    "u_n = \\begin{cases}\n",
    "1  & \\text{if $n=0$,} \\\\\n",
    "u_{n/2}^2 & \\text{if $n$ is even positive,} \\\\\n",
    "a u_{n-1} & \\text{if $n$ is odd.}\n",
    "\\end{cases}\n",
    "$$"
   ]
  },
  {
   "cell_type": "code",
   "execution_count": null,
   "id": "ff6c2396",
   "metadata": {},
   "outputs": [],
   "source": [
    "# Recursive\n",
    "def pow1(a, n):\n",
    "    if n == 0: \n",
    "        return 1\n",
    "    elif n % 2 == 0: \n",
    "        b = pow1(a, n//2)\n",
    "        return b*b\n",
    "    else: \n",
    "        return a*pow1(a, n-1)"
   ]
  },
  {
   "cell_type": "code",
   "execution_count": null,
   "id": "910a2f61",
   "metadata": {},
   "outputs": [],
   "source": [
    "pow1(2, 11)      # result is 2^11"
   ]
  },
  {
   "cell_type": "code",
   "execution_count": null,
   "id": "b458c280",
   "metadata": {},
   "outputs": [],
   "source": [
    "# Iterative\n",
    "def pow2 (u, k):\n",
    "    v = 1\n",
    "    while k != 0:\n",
    "        if k % 2 == 0: \n",
    "            u = u*u\n",
    "            k = k//2\n",
    "        else: \n",
    "            v = v*u \n",
    "            k = k-1\n",
    "    return v"
   ]
  },
  {
   "cell_type": "code",
   "execution_count": null,
   "id": "57dac72f",
   "metadata": {},
   "outputs": [],
   "source": [
    "pow2(2, 10)     # result is 2^10"
   ]
  },
  {
   "cell_type": "markdown",
   "id": "51e5903c",
   "metadata": {},
   "source": [
    "## Input and Output"
   ]
  },
  {
   "cell_type": "code",
   "execution_count": null,
   "id": "73068af6",
   "metadata": {},
   "outputs": [],
   "source": [
    "print(2^2, 3^3, 4^4) \n",
    "print(5^5, 6^6)"
   ]
  },
  {
   "cell_type": "code",
   "execution_count": null,
   "id": "54f8dce2",
   "metadata": {},
   "outputs": [],
   "source": [
    "for k in [1..10]: \n",
    "    print('+', k, end = ' ')"
   ]
  },
  {
   "cell_type": "code",
   "execution_count": null,
   "id": "4f29ec23",
   "metadata": {},
   "outputs": [],
   "source": [
    "print(10, 0.5)\n",
    "print(10+0.5)\n",
    "print(10.0, 5)"
   ]
  },
  {
   "cell_type": "code",
   "execution_count": null,
   "id": "80d1ecda",
   "metadata": {},
   "outputs": [],
   "source": [
    "print(10+0, 5)\n",
    "print(str(10)+str(0.5))"
   ]
  },
  {
   "cell_type": "code",
   "execution_count": null,
   "id": "8739cafe",
   "metadata": {},
   "outputs": [],
   "source": [
    "for k in [1..6]: \n",
    "    print('%2d^4 = %4d' % (k, k^4))                  # formatting"
   ]
  },
  {
   "cell_type": "code",
   "execution_count": null,
   "id": "72c9b3e4",
   "metadata": {},
   "outputs": [],
   "source": [
    "for k in [1..6]: \n",
    "    print('{0:2d}^4 = {1:4d}'.format(k, k^4))       # format method"
   ]
  },
  {
   "cell_type": "code",
   "execution_count": null,
   "id": "12c45c70",
   "metadata": {},
   "outputs": [],
   "source": [
    "for k in [1..6]: \n",
    "    print(f'{k:2d}^4 = {k^4:4d}')                   # f-string"
   ]
  },
  {
   "cell_type": "code",
   "execution_count": null,
   "id": "b0c58171",
   "metadata": {},
   "outputs": [],
   "source": []
  }
 ],
 "metadata": {
  "kernelspec": {
   "display_name": "SageMath 9.4",
   "language": "sage",
   "name": "sagemath"
  },
  "language_info": {
   "codemirror_mode": {
    "name": "ipython",
    "version": 3
   },
   "file_extension": ".py",
   "mimetype": "text/x-python",
   "name": "python",
   "nbconvert_exporter": "python",
   "pygments_lexer": "ipython3",
   "version": "3.9.7"
  }
 },
 "nbformat": 4,
 "nbformat_minor": 5
}
